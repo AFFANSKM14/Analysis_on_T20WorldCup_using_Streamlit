{
 "cells": [
  {
   "cell_type": "code",
   "execution_count": 10,
   "id": "d764154b",
   "metadata": {},
   "outputs": [],
   "source": [
    "# Importing libraries\n",
    "\n",
    "import pandas as pd\n",
    "import seaborn as sns\n",
    "import matplotlib.pyplot as plt\n",
    "import streamlit as st\n",
    "import numpy as np\n",
    "import plotly.express as px"
   ]
  },
  {
   "cell_type": "code",
   "execution_count": 11,
   "id": "047eeea5",
   "metadata": {},
   "outputs": [],
   "source": [
    "# importing data through scrapped data which was transformed into dataframe and then exported to csv\n",
    "            \n",
    "batting_summary = pd.read_csv('batting_summary_T20worldcup2022.csv')\n",
    "\n",
    "bowling_summary = pd.read_csv('bowling_summary_T20worldcup2022.csv')\n",
    "\n",
    "batting_summary = batting_summary.drop(\"Unnamed: 0\",axis=1)\n",
    "\n",
    "bowling_summary = bowling_summary.drop(\"Unnamed: 0\",axis=1)"
   ]
  },
  {
   "cell_type": "markdown",
   "id": "3c1ab2b9",
   "metadata": {},
   "source": [
    "Getting info on batting summary"
   ]
  },
  {
   "cell_type": "code",
   "execution_count": 12,
   "id": "2ca642ee",
   "metadata": {},
   "outputs": [
    {
     "data": {
      "text/plain": [
       "(699, 10)"
      ]
     },
     "execution_count": 12,
     "metadata": {},
     "output_type": "execute_result"
    }
   ],
   "source": [
    "batting_summary.shape  "
   ]
  },
  {
   "cell_type": "code",
   "execution_count": 13,
   "id": "60276444",
   "metadata": {},
   "outputs": [
    {
     "name": "stdout",
     "output_type": "stream",
     "text": [
      "<class 'pandas.core.frame.DataFrame'>\n",
      "RangeIndex: 699 entries, 0 to 698\n",
      "Data columns (total 10 columns):\n",
      " #   Column            Non-Null Count  Dtype \n",
      "---  ------            --------------  ----- \n",
      " 0   batting_position  699 non-null    int64 \n",
      " 1   Batter            699 non-null    object\n",
      " 2   Dismissal         699 non-null    object\n",
      " 3   Runs              699 non-null    int64 \n",
      " 4   Balls             699 non-null    int64 \n",
      " 5   Minutes           699 non-null    object\n",
      " 6   4s                699 non-null    int64 \n",
      " 7   6s                699 non-null    int64 \n",
      " 8   SR                699 non-null    object\n",
      " 9   Country           699 non-null    object\n",
      "dtypes: int64(5), object(5)\n",
      "memory usage: 54.7+ KB\n"
     ]
    }
   ],
   "source": [
    "batting_summary.info()"
   ]
  },
  {
   "cell_type": "markdown",
   "id": "d3a67b0e",
   "metadata": {},
   "source": [
    "In the above observation we notice that Minutes and SR(Strike rate) is in Object(String) format but it has to be integer and float format respectively."
   ]
  },
  {
   "cell_type": "code",
   "execution_count": 14,
   "id": "705b1e74",
   "metadata": {},
   "outputs": [
    {
     "name": "stdout",
     "output_type": "stream",
     "text": [
      "<class 'pandas.core.frame.DataFrame'>\n",
      "RangeIndex: 699 entries, 0 to 698\n",
      "Data columns (total 10 columns):\n",
      " #   Column            Non-Null Count  Dtype  \n",
      "---  ------            --------------  -----  \n",
      " 0   batting_position  699 non-null    int64  \n",
      " 1   Batter            699 non-null    object \n",
      " 2   Dismissal         699 non-null    object \n",
      " 3   Runs              699 non-null    int64  \n",
      " 4   Balls             699 non-null    int64  \n",
      " 5   Minutes           699 non-null    int32  \n",
      " 6   4s                699 non-null    int64  \n",
      " 7   6s                699 non-null    int64  \n",
      " 8   SR                699 non-null    float64\n",
      " 9   Country           699 non-null    object \n",
      "dtypes: float64(1), int32(1), int64(5), object(3)\n",
      "memory usage: 52.0+ KB\n"
     ]
    }
   ],
   "source": [
    "# Converting Minutes and SR into integer and float respectively\n",
    "\n",
    "batting_summary['Minutes'] = batting_summary['Minutes'].str.replace('-','1')\n",
    "batting_summary['SR'] = batting_summary['SR'].str.replace('-','0')\n",
    "\n",
    "\n",
    "batting_summary['Minutes'] = batting_summary['Minutes'].astype(int)\n",
    "batting_summary['SR'] = batting_summary['SR'].astype(float)\n",
    "\n",
    "batting_summary.info()"
   ]
  },
  {
   "cell_type": "code",
   "execution_count": null,
   "id": "c7d465be",
   "metadata": {},
   "outputs": [],
   "source": [
    "batting_summary.describe()"
   ]
  },
  {
   "cell_type": "code",
   "execution_count": null,
   "id": "2e044f63",
   "metadata": {},
   "outputs": [],
   "source": [
    "def corr(df):\n",
    "    corr = df.corr(method = 'spearman')\n",
    "    sns.heatmap(corr,annot=True)\n",
    "\n",
    "df = batting_summary\n",
    "corr(df)"
   ]
  },
  {
   "cell_type": "markdown",
   "id": "7e570368",
   "metadata": {},
   "source": [
    "From above correlation heatmap of batting_summary we observe that expect for batting_positin attribute, all Intezer and flaot attributes are in positive correlation."
   ]
  },
  {
   "cell_type": "markdown",
   "id": "a7afa468",
   "metadata": {},
   "source": [
    "Getting Info on bowlers summary"
   ]
  },
  {
   "cell_type": "code",
   "execution_count": null,
   "id": "571a9456",
   "metadata": {},
   "outputs": [],
   "source": [
    "bowling_summary.shape"
   ]
  },
  {
   "cell_type": "code",
   "execution_count": null,
   "id": "ba7fdf16",
   "metadata": {},
   "outputs": [],
   "source": [
    "bowling_summary.info()"
   ]
  },
  {
   "cell_type": "code",
   "execution_count": null,
   "id": "1f2b0d9d",
   "metadata": {},
   "outputs": [],
   "source": [
    "# Dropping S.NO. attribute\n",
    "\n",
    "bowling_summary = bowling_summary.drop('S.NO.',axis = 1)\n",
    "\n",
    "bowling_summary.info()"
   ]
  },
  {
   "cell_type": "code",
   "execution_count": null,
   "id": "dda2d56e",
   "metadata": {},
   "outputs": [],
   "source": [
    "bowling_summary.describe()\n"
   ]
  },
  {
   "cell_type": "code",
   "execution_count": null,
   "id": "b67ab74e",
   "metadata": {},
   "outputs": [],
   "source": [
    "corr(bowling_summary)"
   ]
  },
  {
   "cell_type": "code",
   "execution_count": null,
   "id": "3122bd8b",
   "metadata": {},
   "outputs": [],
   "source": [
    "st.write(\"\"\"\n",
    "hello my first webpage\n",
    "\"\"\")"
   ]
  },
  {
   "cell_type": "code",
   "execution_count": null,
   "id": "7dc07525",
   "metadata": {},
   "outputs": [],
   "source": [
    "s = batting_summary.groupby(['Country']).agg({'Runs':'sum','Balls':'sum','Minutes':'sum','4s':'sum','6s':'sum','SR':'mean'})\n",
    "\n"
   ]
  },
  {
   "cell_type": "code",
   "execution_count": null,
   "id": "8ab45fcf",
   "metadata": {
    "scrolled": true
   },
   "outputs": [],
   "source": [
    "j = batting_summary.groupby(['batting_position',batting_summary['Country']=='England'])['Runs','6s'].sum()\n",
    "k =pd.DataFrame(j)\n",
    "\n",
    "k"
   ]
  },
  {
   "cell_type": "code",
   "execution_count": null,
   "id": "e07ae23a",
   "metadata": {},
   "outputs": [],
   "source": [
    "j = batting_summary.groupby(['Batter','Country'],as_index=False)['Runs','6s'].sum()\n",
    "\n",
    "j"
   ]
  },
  {
   "cell_type": "code",
   "execution_count": null,
   "id": "6b58d269",
   "metadata": {},
   "outputs": [],
   "source": [
    "j.first()"
   ]
  },
  {
   "cell_type": "code",
   "execution_count": 26,
   "id": "8de7d5fd",
   "metadata": {},
   "outputs": [
    {
     "data": {
      "text/html": [
       "<div>\n",
       "<style scoped>\n",
       "    .dataframe tbody tr th:only-of-type {\n",
       "        vertical-align: middle;\n",
       "    }\n",
       "\n",
       "    .dataframe tbody tr th {\n",
       "        vertical-align: top;\n",
       "    }\n",
       "\n",
       "    .dataframe thead th {\n",
       "        text-align: right;\n",
       "    }\n",
       "</style>\n",
       "<table border=\"1\" class=\"dataframe\">\n",
       "  <thead>\n",
       "    <tr style=\"text-align: right;\">\n",
       "      <th></th>\n",
       "      <th>Batter</th>\n",
       "      <th>Runs</th>\n",
       "      <th>Balls</th>\n",
       "      <th>Minutes</th>\n",
       "      <th>SR</th>\n",
       "    </tr>\n",
       "  </thead>\n",
       "  <tbody>\n",
       "    <tr>\n",
       "      <th>0</th>\n",
       "      <td>Aaron Finch(c)</td>\n",
       "      <td>107</td>\n",
       "      <td>97</td>\n",
       "      <td>196</td>\n",
       "      <td>111.720000</td>\n",
       "    </tr>\n",
       "    <tr>\n",
       "      <th>1</th>\n",
       "      <td>Aayan Afzal Khan</td>\n",
       "      <td>24</td>\n",
       "      <td>28</td>\n",
       "      <td>41</td>\n",
       "      <td>80.945000</td>\n",
       "    </tr>\n",
       "    <tr>\n",
       "      <th>2</th>\n",
       "      <td>Adam Zampa</td>\n",
       "      <td>1</td>\n",
       "      <td>3</td>\n",
       "      <td>8</td>\n",
       "      <td>50.000000</td>\n",
       "    </tr>\n",
       "    <tr>\n",
       "      <th>3</th>\n",
       "      <td>Afif Hossain</td>\n",
       "      <td>95</td>\n",
       "      <td>76</td>\n",
       "      <td>154</td>\n",
       "      <td>98.674000</td>\n",
       "    </tr>\n",
       "    <tr>\n",
       "      <th>4</th>\n",
       "      <td>Aiden Markram</td>\n",
       "      <td>99</td>\n",
       "      <td>79</td>\n",
       "      <td>146</td>\n",
       "      <td>122.832500</td>\n",
       "    </tr>\n",
       "    <tr>\n",
       "      <th>...</th>\n",
       "      <td>...</td>\n",
       "      <td>...</td>\n",
       "      <td>...</td>\n",
       "      <td>...</td>\n",
       "      <td>...</td>\n",
       "    </tr>\n",
       "    <tr>\n",
       "      <th>195</th>\n",
       "      <td>Wessly Madhevere</td>\n",
       "      <td>106</td>\n",
       "      <td>83</td>\n",
       "      <td>145</td>\n",
       "      <td>92.051250</td>\n",
       "    </tr>\n",
       "    <tr>\n",
       "      <th>196</th>\n",
       "      <td>Yasir Ali</td>\n",
       "      <td>5</td>\n",
       "      <td>9</td>\n",
       "      <td>20</td>\n",
       "      <td>64.443333</td>\n",
       "    </tr>\n",
       "    <tr>\n",
       "      <th>197</th>\n",
       "      <td>Zahoor Khan</td>\n",
       "      <td>1</td>\n",
       "      <td>1</td>\n",
       "      <td>15</td>\n",
       "      <td>100.000000</td>\n",
       "    </tr>\n",
       "    <tr>\n",
       "      <th>198</th>\n",
       "      <td>Zane Green(WK)</td>\n",
       "      <td>2</td>\n",
       "      <td>3</td>\n",
       "      <td>3</td>\n",
       "      <td>66.660000</td>\n",
       "    </tr>\n",
       "    <tr>\n",
       "      <th>199</th>\n",
       "      <td>Zawar Farid</td>\n",
       "      <td>2</td>\n",
       "      <td>4</td>\n",
       "      <td>8</td>\n",
       "      <td>50.000000</td>\n",
       "    </tr>\n",
       "  </tbody>\n",
       "</table>\n",
       "<p>200 rows × 5 columns</p>\n",
       "</div>"
      ],
      "text/plain": [
       "               Batter  Runs  Balls  Minutes          SR\n",
       "0      Aaron Finch(c)   107     97      196  111.720000\n",
       "1    Aayan Afzal Khan    24     28       41   80.945000\n",
       "2          Adam Zampa     1      3        8   50.000000\n",
       "3        Afif Hossain    95     76      154   98.674000\n",
       "4       Aiden Markram    99     79      146  122.832500\n",
       "..                ...   ...    ...      ...         ...\n",
       "195  Wessly Madhevere   106     83      145   92.051250\n",
       "196         Yasir Ali     5      9       20   64.443333\n",
       "197       Zahoor Khan     1      1       15  100.000000\n",
       "198    Zane Green(WK)     2      3        3   66.660000\n",
       "199       Zawar Farid     2      4        8   50.000000\n",
       "\n",
       "[200 rows x 5 columns]"
      ]
     },
     "execution_count": 26,
     "metadata": {},
     "output_type": "execute_result"
    }
   ],
   "source": [
    "Impact_Player = batting_summary.groupby(['Batter'],as_index=False).agg({'Runs':'sum','Balls':'sum','Minutes':'sum','SR':'mean'}0)\n",
    "\n",
    "Impact_Player"
   ]
  },
  {
   "cell_type": "code",
   "execution_count": null,
   "id": "78514b39",
   "metadata": {},
   "outputs": [],
   "source": [
    "filtered_condition = Impact_Player[Impact_Player['Balls']<40 & Impact_Player['SR']>200.0]"
   ]
  },
  {
   "cell_type": "code",
   "execution_count": 20,
   "id": "8d8ed82a",
   "metadata": {},
   "outputs": [
    {
     "data": {
      "text/plain": [
       "[239, 126, 193, 26, 9, 182.58333333333334]"
      ]
     },
     "execution_count": 20,
     "metadata": {},
     "output_type": "execute_result"
    }
   ],
   "source": [
    "filtered_values = np.where((Impact_Player['SR']>=180) & (Impact_Player['Balls']>80))\n",
    "o = Impact_Player.loc[filtered_values]\n",
    "\n",
    "list(o.values[0])[1:]"
   ]
  },
  {
   "cell_type": "code",
   "execution_count": null,
   "id": "ff9ef9b7",
   "metadata": {},
   "outputs": [],
   "source": []
  },
  {
   "cell_type": "code",
   "execution_count": null,
   "id": "8dbeaed5",
   "metadata": {},
   "outputs": [],
   "source": [
    "fig = px.line_polar(o,r = [239,126,193,26,9,182.583333], theta = 'Batter', line_close=True, color = ['Runs','Balls','Minutes','4s','6s','SR'],template = 'none')\n",
    "\n",
    "fig.update_traces(fill='toself')\n",
    "\n",
    "fig.show()"
   ]
  },
  {
   "cell_type": "code",
   "execution_count": 10,
   "id": "ac2d7b92",
   "metadata": {},
   "outputs": [
    {
     "data": {
      "text/plain": [
       "['Runs', 'Balls', 'Minutes', '4s', '6s', 'SR']"
      ]
     },
     "execution_count": 10,
     "metadata": {},
     "output_type": "execute_result"
    }
   ],
   "source": [
    "list(o.columns)[1:]"
   ]
  },
  {
   "cell_type": "code",
   "execution_count": 12,
   "id": "5020f94d",
   "metadata": {},
   "outputs": [
    {
     "data": {
      "text/plain": [
       "[]"
      ]
     },
     "execution_count": 12,
     "metadata": {},
     "output_type": "execute_result"
    }
   ],
   "source": [
    "list(o.values)[1:]"
   ]
  },
  {
   "cell_type": "code",
   "execution_count": null,
   "id": "239254f2",
   "metadata": {},
   "outputs": [],
   "source": [
    "fig.show()"
   ]
  },
  {
   "cell_type": "code",
   "execution_count": null,
   "id": "de9ff838",
   "metadata": {},
   "outputs": [],
   "source": [
    "df00 = pd.DataFrame({'Col A': ['home', 'other', 'used', 'new', 'service','service'],\n",
    "                   'Col B': [6.797, 3.243, 12.567, 8.985, 1.345]})"
   ]
  },
  {
   "cell_type": "code",
   "execution_count": null,
   "id": "191f9880",
   "metadata": {},
   "outputs": [],
   "source": [
    "list(o.values)[1:]"
   ]
  },
  {
   "cell_type": "code",
   "execution_count": 21,
   "id": "1447eff8",
   "metadata": {},
   "outputs": [
    {
     "data": {
      "application/vnd.plotly.v1+json": {
       "config": {
        "plotlyServerURL": "https://plot.ly"
       },
       "data": [
        {
         "fill": "toself",
         "hovertemplate": "r=%{r}<br>theta=%{theta}<extra></extra>",
         "legendgroup": "",
         "line": {
          "color": "#000001",
          "dash": "solid"
         },
         "mode": "lines",
         "name": "",
         "r": [
          239,
          126,
          193,
          26,
          9,
          182.58333333333334,
          239
         ],
         "showlegend": false,
         "subplot": "polar",
         "theta": [
          "Runs",
          "Balls",
          "Minutes",
          "4s",
          "6s",
          "SR",
          "Runs"
         ],
         "type": "scatterpolar"
        }
       ],
       "layout": {
        "legend": {
         "tracegroupgap": 0
        },
        "margin": {
         "t": 60
        },
        "polar": {
         "angularaxis": {
          "direction": "clockwise",
          "rotation": 90
         },
         "domain": {
          "x": [
           0,
           1
          ],
          "y": [
           0,
           1
          ]
         }
        },
        "template": {
         "data": {
          "candlestick": [
           {
            "decreasing": {
             "line": {
              "color": "#000033"
             }
            },
            "increasing": {
             "line": {
              "color": "#000032"
             }
            },
            "type": "candlestick"
           }
          ],
          "contour": [
           {
            "colorscale": [
             [
              0,
              "#000011"
             ],
             [
              0.1111111111111111,
              "#000012"
             ],
             [
              0.2222222222222222,
              "#000013"
             ],
             [
              0.3333333333333333,
              "#000014"
             ],
             [
              0.4444444444444444,
              "#000015"
             ],
             [
              0.5555555555555556,
              "#000016"
             ],
             [
              0.6666666666666666,
              "#000017"
             ],
             [
              0.7777777777777778,
              "#000018"
             ],
             [
              0.8888888888888888,
              "#000019"
             ],
             [
              1,
              "#000020"
             ]
            ],
            "type": "contour"
           }
          ],
          "contourcarpet": [
           {
            "colorscale": [
             [
              0,
              "#000011"
             ],
             [
              0.1111111111111111,
              "#000012"
             ],
             [
              0.2222222222222222,
              "#000013"
             ],
             [
              0.3333333333333333,
              "#000014"
             ],
             [
              0.4444444444444444,
              "#000015"
             ],
             [
              0.5555555555555556,
              "#000016"
             ],
             [
              0.6666666666666666,
              "#000017"
             ],
             [
              0.7777777777777778,
              "#000018"
             ],
             [
              0.8888888888888888,
              "#000019"
             ],
             [
              1,
              "#000020"
             ]
            ],
            "type": "contourcarpet"
           }
          ],
          "heatmap": [
           {
            "colorscale": [
             [
              0,
              "#000011"
             ],
             [
              0.1111111111111111,
              "#000012"
             ],
             [
              0.2222222222222222,
              "#000013"
             ],
             [
              0.3333333333333333,
              "#000014"
             ],
             [
              0.4444444444444444,
              "#000015"
             ],
             [
              0.5555555555555556,
              "#000016"
             ],
             [
              0.6666666666666666,
              "#000017"
             ],
             [
              0.7777777777777778,
              "#000018"
             ],
             [
              0.8888888888888888,
              "#000019"
             ],
             [
              1,
              "#000020"
             ]
            ],
            "type": "heatmap"
           }
          ],
          "histogram2d": [
           {
            "colorscale": [
             [
              0,
              "#000011"
             ],
             [
              0.1111111111111111,
              "#000012"
             ],
             [
              0.2222222222222222,
              "#000013"
             ],
             [
              0.3333333333333333,
              "#000014"
             ],
             [
              0.4444444444444444,
              "#000015"
             ],
             [
              0.5555555555555556,
              "#000016"
             ],
             [
              0.6666666666666666,
              "#000017"
             ],
             [
              0.7777777777777778,
              "#000018"
             ],
             [
              0.8888888888888888,
              "#000019"
             ],
             [
              1,
              "#000020"
             ]
            ],
            "type": "histogram2d"
           }
          ],
          "sankey": [
           {
            "textfont": {
             "color": "#000036"
            },
            "type": "sankey"
           }
          ],
          "scatter": [
           {
            "marker": {
             "line": {
              "width": 0
             }
            },
            "type": "scatter"
           }
          ],
          "table": [
           {
            "cells": {
             "fill": {
              "color": "#000038"
             },
             "font": {
              "color": "#000037"
             },
             "line": {
              "color": "#000039"
             }
            },
            "header": {
             "fill": {
              "color": "#000040"
             },
             "font": {
              "color": "#000036"
             },
             "line": {
              "color": "#000039"
             }
            },
            "type": "table"
           }
          ],
          "waterfall": [
           {
            "connector": {
             "line": {
              "color": "#000036",
              "width": 2
             }
            },
            "decreasing": {
             "marker": {
              "color": "#000033"
             }
            },
            "increasing": {
             "marker": {
              "color": "#000032"
             }
            },
            "totals": {
             "marker": {
              "color": "#000034"
             }
            },
            "type": "waterfall"
           }
          ]
         },
         "layout": {
          "coloraxis": {
           "colorscale": [
            [
             0,
             "#000011"
            ],
            [
             0.1111111111111111,
             "#000012"
            ],
            [
             0.2222222222222222,
             "#000013"
            ],
            [
             0.3333333333333333,
             "#000014"
            ],
            [
             0.4444444444444444,
             "#000015"
            ],
            [
             0.5555555555555556,
             "#000016"
            ],
            [
             0.6666666666666666,
             "#000017"
            ],
            [
             0.7777777777777778,
             "#000018"
            ],
            [
             0.8888888888888888,
             "#000019"
            ],
            [
             1,
             "#000020"
            ]
           ]
          },
          "colorscale": {
           "diverging": [
            [
             0,
             "#000021"
            ],
            [
             0.1,
             "#000022"
            ],
            [
             0.2,
             "#000023"
            ],
            [
             0.3,
             "#000024"
            ],
            [
             0.4,
             "#000025"
            ],
            [
             0.5,
             "#000026"
            ],
            [
             0.6,
             "#000027"
            ],
            [
             0.7,
             "#000028"
            ],
            [
             0.8,
             "#000029"
            ],
            [
             0.9,
             "#000030"
            ],
            [
             1,
             "#000031"
            ]
           ],
           "sequential": [
            [
             0,
             "#000011"
            ],
            [
             0.1111111111111111,
             "#000012"
            ],
            [
             0.2222222222222222,
             "#000013"
            ],
            [
             0.3333333333333333,
             "#000014"
            ],
            [
             0.4444444444444444,
             "#000015"
            ],
            [
             0.5555555555555556,
             "#000016"
            ],
            [
             0.6666666666666666,
             "#000017"
            ],
            [
             0.7777777777777778,
             "#000018"
            ],
            [
             0.8888888888888888,
             "#000019"
            ],
            [
             1,
             "#000020"
            ]
           ],
           "sequentialminus": [
            [
             0,
             "#000011"
            ],
            [
             0.1111111111111111,
             "#000012"
            ],
            [
             0.2222222222222222,
             "#000013"
            ],
            [
             0.3333333333333333,
             "#000014"
            ],
            [
             0.4444444444444444,
             "#000015"
            ],
            [
             0.5555555555555556,
             "#000016"
            ],
            [
             0.6666666666666666,
             "#000017"
            ],
            [
             0.7777777777777778,
             "#000018"
            ],
            [
             0.8888888888888888,
             "#000019"
            ],
            [
             1,
             "#000020"
            ]
           ]
          },
          "colorway": [
           "#000001",
           "#000002",
           "#000003",
           "#000004",
           "#000005",
           "#000006",
           "#000007",
           "#000008",
           "#000009",
           "#000010"
          ]
         }
        }
       }
      },
      "text/html": [
       "<div>\n",
       "        \n",
       "        \n",
       "            <div id=\"43e3e2e0-fc64-4c49-ba92-8ae11c5c39d5\" class=\"plotly-graph-div\" style=\"height:525px; width:100%;\"></div>\n",
       "            <script type=\"text/javascript\">\n",
       "                require([\"plotly\"], function(Plotly) {\n",
       "                    window.PLOTLYENV=window.PLOTLYENV || {};\n",
       "                    \n",
       "                if (document.getElementById(\"43e3e2e0-fc64-4c49-ba92-8ae11c5c39d5\")) {\n",
       "                    Plotly.newPlot(\n",
       "                        '43e3e2e0-fc64-4c49-ba92-8ae11c5c39d5',\n",
       "                        [{\"fill\": \"toself\", \"hovertemplate\": \"r=%{r}<br>theta=%{theta}<extra></extra>\", \"legendgroup\": \"\", \"line\": {\"color\": \"#000001\", \"dash\": \"solid\"}, \"mode\": \"lines\", \"name\": \"\", \"r\": [239.0, 126.0, 193.0, 26.0, 9.0, 182.58333333333334, 239.0], \"showlegend\": false, \"subplot\": \"polar\", \"theta\": [\"Runs\", \"Balls\", \"Minutes\", \"4s\", \"6s\", \"SR\", \"Runs\"], \"type\": \"scatterpolar\"}],\n",
       "                        {\"legend\": {\"tracegroupgap\": 0}, \"margin\": {\"t\": 60}, \"polar\": {\"angularaxis\": {\"direction\": \"clockwise\", \"rotation\": 90}, \"domain\": {\"x\": [0.0, 1.0], \"y\": [0.0, 1.0]}}, \"template\": {\"data\": {\"candlestick\": [{\"decreasing\": {\"line\": {\"color\": \"#000033\"}}, \"increasing\": {\"line\": {\"color\": \"#000032\"}}, \"type\": \"candlestick\"}], \"contour\": [{\"colorscale\": [[0.0, \"#000011\"], [0.1111111111111111, \"#000012\"], [0.2222222222222222, \"#000013\"], [0.3333333333333333, \"#000014\"], [0.4444444444444444, \"#000015\"], [0.5555555555555556, \"#000016\"], [0.6666666666666666, \"#000017\"], [0.7777777777777778, \"#000018\"], [0.8888888888888888, \"#000019\"], [1.0, \"#000020\"]], \"type\": \"contour\"}], \"contourcarpet\": [{\"colorscale\": [[0.0, \"#000011\"], [0.1111111111111111, \"#000012\"], [0.2222222222222222, \"#000013\"], [0.3333333333333333, \"#000014\"], [0.4444444444444444, \"#000015\"], [0.5555555555555556, \"#000016\"], [0.6666666666666666, \"#000017\"], [0.7777777777777778, \"#000018\"], [0.8888888888888888, \"#000019\"], [1.0, \"#000020\"]], \"type\": \"contourcarpet\"}], \"heatmap\": [{\"colorscale\": [[0.0, \"#000011\"], [0.1111111111111111, \"#000012\"], [0.2222222222222222, \"#000013\"], [0.3333333333333333, \"#000014\"], [0.4444444444444444, \"#000015\"], [0.5555555555555556, \"#000016\"], [0.6666666666666666, \"#000017\"], [0.7777777777777778, \"#000018\"], [0.8888888888888888, \"#000019\"], [1.0, \"#000020\"]], \"type\": \"heatmap\"}], \"histogram2d\": [{\"colorscale\": [[0.0, \"#000011\"], [0.1111111111111111, \"#000012\"], [0.2222222222222222, \"#000013\"], [0.3333333333333333, \"#000014\"], [0.4444444444444444, \"#000015\"], [0.5555555555555556, \"#000016\"], [0.6666666666666666, \"#000017\"], [0.7777777777777778, \"#000018\"], [0.8888888888888888, \"#000019\"], [1.0, \"#000020\"]], \"type\": \"histogram2d\"}], \"sankey\": [{\"textfont\": {\"color\": \"#000036\"}, \"type\": \"sankey\"}], \"scatter\": [{\"marker\": {\"line\": {\"width\": 0}}, \"type\": \"scatter\"}], \"table\": [{\"cells\": {\"fill\": {\"color\": \"#000038\"}, \"font\": {\"color\": \"#000037\"}, \"line\": {\"color\": \"#000039\"}}, \"header\": {\"fill\": {\"color\": \"#000040\"}, \"font\": {\"color\": \"#000036\"}, \"line\": {\"color\": \"#000039\"}}, \"type\": \"table\"}], \"waterfall\": [{\"connector\": {\"line\": {\"color\": \"#000036\", \"width\": 2}}, \"decreasing\": {\"marker\": {\"color\": \"#000033\"}}, \"increasing\": {\"marker\": {\"color\": \"#000032\"}}, \"totals\": {\"marker\": {\"color\": \"#000034\"}}, \"type\": \"waterfall\"}]}, \"layout\": {\"coloraxis\": {\"colorscale\": [[0.0, \"#000011\"], [0.1111111111111111, \"#000012\"], [0.2222222222222222, \"#000013\"], [0.3333333333333333, \"#000014\"], [0.4444444444444444, \"#000015\"], [0.5555555555555556, \"#000016\"], [0.6666666666666666, \"#000017\"], [0.7777777777777778, \"#000018\"], [0.8888888888888888, \"#000019\"], [1.0, \"#000020\"]]}, \"colorscale\": {\"diverging\": [[0.0, \"#000021\"], [0.1, \"#000022\"], [0.2, \"#000023\"], [0.3, \"#000024\"], [0.4, \"#000025\"], [0.5, \"#000026\"], [0.6, \"#000027\"], [0.7, \"#000028\"], [0.8, \"#000029\"], [0.9, \"#000030\"], [1.0, \"#000031\"]], \"sequential\": [[0.0, \"#000011\"], [0.1111111111111111, \"#000012\"], [0.2222222222222222, \"#000013\"], [0.3333333333333333, \"#000014\"], [0.4444444444444444, \"#000015\"], [0.5555555555555556, \"#000016\"], [0.6666666666666666, \"#000017\"], [0.7777777777777778, \"#000018\"], [0.8888888888888888, \"#000019\"], [1.0, \"#000020\"]], \"sequentialminus\": [[0.0, \"#000011\"], [0.1111111111111111, \"#000012\"], [0.2222222222222222, \"#000013\"], [0.3333333333333333, \"#000014\"], [0.4444444444444444, \"#000015\"], [0.5555555555555556, \"#000016\"], [0.6666666666666666, \"#000017\"], [0.7777777777777778, \"#000018\"], [0.8888888888888888, \"#000019\"], [1.0, \"#000020\"]]}, \"colorway\": [\"#000001\", \"#000002\", \"#000003\", \"#000004\", \"#000005\", \"#000006\", \"#000007\", \"#000008\", \"#000009\", \"#000010\"]}}},\n",
       "                        {\"responsive\": true}\n",
       "                    ).then(function(){\n",
       "                            \n",
       "var gd = document.getElementById('43e3e2e0-fc64-4c49-ba92-8ae11c5c39d5');\n",
       "var x = new MutationObserver(function (mutations, observer) {{\n",
       "        var display = window.getComputedStyle(gd).display;\n",
       "        if (!display || display === 'none') {{\n",
       "            console.log([gd, 'removed!']);\n",
       "            Plotly.purge(gd);\n",
       "            observer.disconnect();\n",
       "        }}\n",
       "}});\n",
       "\n",
       "// Listen for the removal of the full notebook cells\n",
       "var notebookContainer = gd.closest('#notebook-container');\n",
       "if (notebookContainer) {{\n",
       "    x.observe(notebookContainer, {childList: true});\n",
       "}}\n",
       "\n",
       "// Listen for the clearing of the current output cell\n",
       "var outputEl = gd.closest('.output');\n",
       "if (outputEl) {{\n",
       "    x.observe(outputEl, {childList: true});\n",
       "}}\n",
       "\n",
       "                        })\n",
       "                };\n",
       "                });\n",
       "            </script>\n",
       "        </div>"
      ]
     },
     "metadata": {},
     "output_type": "display_data"
    }
   ],
   "source": [
    "fig = px.line_polar(r=list(o.values[0])[1:], theta=list(o.columns)[1:],line_close=True,template = None)\n",
    "fig.update_traces(fill='toself')\n",
    "fig.show()"
   ]
  },
  {
   "cell_type": "code",
   "execution_count": 27,
   "id": "1f59021e",
   "metadata": {},
   "outputs": [
    {
     "data": {
      "text/html": [
       "<div>\n",
       "<style scoped>\n",
       "    .dataframe tbody tr th:only-of-type {\n",
       "        vertical-align: middle;\n",
       "    }\n",
       "\n",
       "    .dataframe tbody tr th {\n",
       "        vertical-align: top;\n",
       "    }\n",
       "\n",
       "    .dataframe thead th {\n",
       "        text-align: right;\n",
       "    }\n",
       "</style>\n",
       "<table border=\"1\" class=\"dataframe\">\n",
       "  <thead>\n",
       "    <tr style=\"text-align: right;\">\n",
       "      <th></th>\n",
       "      <th>batting_position</th>\n",
       "      <th>Batter</th>\n",
       "      <th>Dismissal</th>\n",
       "      <th>Runs</th>\n",
       "      <th>Balls</th>\n",
       "      <th>Minutes</th>\n",
       "      <th>4s</th>\n",
       "      <th>6s</th>\n",
       "      <th>SR</th>\n",
       "      <th>Country</th>\n",
       "    </tr>\n",
       "  </thead>\n",
       "  <tbody>\n",
       "    <tr>\n",
       "      <th>0</th>\n",
       "      <td>1</td>\n",
       "      <td>Michael van Lingen</td>\n",
       "      <td>c Pramod Madushan b Chameera</td>\n",
       "      <td>3</td>\n",
       "      <td>6</td>\n",
       "      <td>7</td>\n",
       "      <td>0</td>\n",
       "      <td>0</td>\n",
       "      <td>50.00</td>\n",
       "      <td>Namibia</td>\n",
       "    </tr>\n",
       "    <tr>\n",
       "      <th>1</th>\n",
       "      <td>2</td>\n",
       "      <td>Divan la Cock</td>\n",
       "      <td>c Shanaka b Pramod Madushan</td>\n",
       "      <td>9</td>\n",
       "      <td>9</td>\n",
       "      <td>15</td>\n",
       "      <td>1</td>\n",
       "      <td>0</td>\n",
       "      <td>100.00</td>\n",
       "      <td>Namibia</td>\n",
       "    </tr>\n",
       "    <tr>\n",
       "      <th>2</th>\n",
       "      <td>3</td>\n",
       "      <td>Jan Nicol Loftie-Eaton</td>\n",
       "      <td>c (WK)Mendis b Karunaratne</td>\n",
       "      <td>20</td>\n",
       "      <td>12</td>\n",
       "      <td>18</td>\n",
       "      <td>1</td>\n",
       "      <td>2</td>\n",
       "      <td>166.66</td>\n",
       "      <td>Namibia</td>\n",
       "    </tr>\n",
       "    <tr>\n",
       "      <th>3</th>\n",
       "      <td>4</td>\n",
       "      <td>Stephan Baard</td>\n",
       "      <td>c DM de Silva b Pramod Madushan</td>\n",
       "      <td>26</td>\n",
       "      <td>24</td>\n",
       "      <td>49</td>\n",
       "      <td>2</td>\n",
       "      <td>0</td>\n",
       "      <td>108.33</td>\n",
       "      <td>Namibia</td>\n",
       "    </tr>\n",
       "    <tr>\n",
       "      <th>4</th>\n",
       "      <td>5</td>\n",
       "      <td>Gerhard Erasmus(c)</td>\n",
       "      <td>c Gunathilaka b PWH de Silva</td>\n",
       "      <td>20</td>\n",
       "      <td>24</td>\n",
       "      <td>30</td>\n",
       "      <td>0</td>\n",
       "      <td>0</td>\n",
       "      <td>83.33</td>\n",
       "      <td>Namibia</td>\n",
       "    </tr>\n",
       "    <tr>\n",
       "      <th>...</th>\n",
       "      <td>...</td>\n",
       "      <td>...</td>\n",
       "      <td>...</td>\n",
       "      <td>...</td>\n",
       "      <td>...</td>\n",
       "      <td>...</td>\n",
       "      <td>...</td>\n",
       "      <td>...</td>\n",
       "      <td>...</td>\n",
       "      <td>...</td>\n",
       "    </tr>\n",
       "    <tr>\n",
       "      <th>694</th>\n",
       "      <td>3</td>\n",
       "      <td>Phil Salt</td>\n",
       "      <td>c Iftikhar Ahmed b Haris Rauf</td>\n",
       "      <td>10</td>\n",
       "      <td>9</td>\n",
       "      <td>16</td>\n",
       "      <td>2</td>\n",
       "      <td>0</td>\n",
       "      <td>111.11</td>\n",
       "      <td>England</td>\n",
       "    </tr>\n",
       "    <tr>\n",
       "      <th>695</th>\n",
       "      <td>4</td>\n",
       "      <td>Ben Stokes</td>\n",
       "      <td>not out</td>\n",
       "      <td>52</td>\n",
       "      <td>49</td>\n",
       "      <td>81</td>\n",
       "      <td>5</td>\n",
       "      <td>1</td>\n",
       "      <td>106.12</td>\n",
       "      <td>England</td>\n",
       "    </tr>\n",
       "    <tr>\n",
       "      <th>696</th>\n",
       "      <td>5</td>\n",
       "      <td>Harry Brook</td>\n",
       "      <td>c Shaheen Shah Afridi b Shadab Khan</td>\n",
       "      <td>20</td>\n",
       "      <td>23</td>\n",
       "      <td>36</td>\n",
       "      <td>1</td>\n",
       "      <td>0</td>\n",
       "      <td>86.95</td>\n",
       "      <td>England</td>\n",
       "    </tr>\n",
       "    <tr>\n",
       "      <th>697</th>\n",
       "      <td>6</td>\n",
       "      <td>Moeen Ali</td>\n",
       "      <td>b Mohammad Wasim</td>\n",
       "      <td>19</td>\n",
       "      <td>13</td>\n",
       "      <td>30</td>\n",
       "      <td>3</td>\n",
       "      <td>0</td>\n",
       "      <td>146.15</td>\n",
       "      <td>England</td>\n",
       "    </tr>\n",
       "    <tr>\n",
       "      <th>698</th>\n",
       "      <td>7</td>\n",
       "      <td>Liam Livingstone</td>\n",
       "      <td>not out</td>\n",
       "      <td>1</td>\n",
       "      <td>1</td>\n",
       "      <td>3</td>\n",
       "      <td>0</td>\n",
       "      <td>0</td>\n",
       "      <td>100.00</td>\n",
       "      <td>England</td>\n",
       "    </tr>\n",
       "  </tbody>\n",
       "</table>\n",
       "<p>699 rows × 10 columns</p>\n",
       "</div>"
      ],
      "text/plain": [
       "     batting_position                  Batter  \\\n",
       "0                   1      Michael van Lingen   \n",
       "1                   2           Divan la Cock   \n",
       "2                   3  Jan Nicol Loftie-Eaton   \n",
       "3                   4           Stephan Baard   \n",
       "4                   5      Gerhard Erasmus(c)   \n",
       "..                ...                     ...   \n",
       "694                 3               Phil Salt   \n",
       "695                 4              Ben Stokes   \n",
       "696                 5             Harry Brook   \n",
       "697                 6               Moeen Ali   \n",
       "698                 7        Liam Livingstone   \n",
       "\n",
       "                               Dismissal  Runs  Balls  Minutes  4s  6s  \\\n",
       "0           c Pramod Madushan b Chameera     3      6        7   0   0   \n",
       "1            c Shanaka b Pramod Madushan     9      9       15   1   0   \n",
       "2             c (WK)Mendis b Karunaratne    20     12       18   1   2   \n",
       "3        c DM de Silva b Pramod Madushan    26     24       49   2   0   \n",
       "4           c Gunathilaka b PWH de Silva    20     24       30   0   0   \n",
       "..                                   ...   ...    ...      ...  ..  ..   \n",
       "694        c Iftikhar Ahmed b Haris Rauf    10      9       16   2   0   \n",
       "695                             not out     52     49       81   5   1   \n",
       "696  c Shaheen Shah Afridi b Shadab Khan    20     23       36   1   0   \n",
       "697                     b Mohammad Wasim    19     13       30   3   0   \n",
       "698                             not out      1      1        3   0   0   \n",
       "\n",
       "         SR  Country  \n",
       "0     50.00  Namibia  \n",
       "1    100.00  Namibia  \n",
       "2    166.66  Namibia  \n",
       "3    108.33  Namibia  \n",
       "4     83.33  Namibia  \n",
       "..      ...      ...  \n",
       "694  111.11  England  \n",
       "695  106.12  England  \n",
       "696   86.95  England  \n",
       "697  146.15  England  \n",
       "698  100.00  England  \n",
       "\n",
       "[699 rows x 10 columns]"
      ]
     },
     "execution_count": 27,
     "metadata": {},
     "output_type": "execute_result"
    }
   ],
   "source": [
    "batting_summary"
   ]
  },
  {
   "cell_type": "code",
   "execution_count": 34,
   "id": "6ce2f082",
   "metadata": {},
   "outputs": [],
   "source": [
    "overall_data = batting_summary.groupby(['Country','Batter','batting_position'],as_index=False).agg({'Runs':'sum','Balls':'sum','Minutes':'sum','4s':'sum','6s':'sum','SR':'mean'})"
   ]
  },
  {
   "cell_type": "code",
   "execution_count": 33,
   "id": "c8dd4156",
   "metadata": {},
   "outputs": [
    {
     "data": {
      "text/html": [
       "<div>\n",
       "<style scoped>\n",
       "    .dataframe tbody tr th:only-of-type {\n",
       "        vertical-align: middle;\n",
       "    }\n",
       "\n",
       "    .dataframe tbody tr th {\n",
       "        vertical-align: top;\n",
       "    }\n",
       "\n",
       "    .dataframe thead th {\n",
       "        text-align: right;\n",
       "    }\n",
       "</style>\n",
       "<table border=\"1\" class=\"dataframe\">\n",
       "  <thead>\n",
       "    <tr style=\"text-align: right;\">\n",
       "      <th></th>\n",
       "      <th>Country</th>\n",
       "      <th>Batter</th>\n",
       "      <th>batting_position</th>\n",
       "      <th>Runs</th>\n",
       "      <th>Balls</th>\n",
       "      <th>Minutes</th>\n",
       "      <th>4s</th>\n",
       "      <th>6s</th>\n",
       "      <th>SR</th>\n",
       "    </tr>\n",
       "  </thead>\n",
       "  <tbody>\n",
       "    <tr>\n",
       "      <th>128</th>\n",
       "      <td>Namibia</td>\n",
       "      <td>Jan Nicol Loftie-Eaton</td>\n",
       "      <td>3</td>\n",
       "      <td>21</td>\n",
       "      <td>18</td>\n",
       "      <td>35</td>\n",
       "      <td>1</td>\n",
       "      <td>2</td>\n",
       "      <td>91.660000</td>\n",
       "    </tr>\n",
       "    <tr>\n",
       "      <th>8</th>\n",
       "      <td>Afghanistan</td>\n",
       "      <td>Ibrahim Zadran</td>\n",
       "      <td>3</td>\n",
       "      <td>80</td>\n",
       "      <td>83</td>\n",
       "      <td>131</td>\n",
       "      <td>6</td>\n",
       "      <td>2</td>\n",
       "      <td>100.333333</td>\n",
       "    </tr>\n",
       "    <tr>\n",
       "      <th>306</th>\n",
       "      <td>Zimbabwe</td>\n",
       "      <td>Sean Williams</td>\n",
       "      <td>3</td>\n",
       "      <td>1</td>\n",
       "      <td>1</td>\n",
       "      <td>10</td>\n",
       "      <td>0</td>\n",
       "      <td>0</td>\n",
       "      <td>100.000000</td>\n",
       "    </tr>\n",
       "    <tr>\n",
       "      <th>300</th>\n",
       "      <td>Zimbabwe</td>\n",
       "      <td>Regis Chakabva(WK)</td>\n",
       "      <td>3</td>\n",
       "      <td>5</td>\n",
       "      <td>22</td>\n",
       "      <td>27</td>\n",
       "      <td>1</td>\n",
       "      <td>0</td>\n",
       "      <td>15.625000</td>\n",
       "    </tr>\n",
       "    <tr>\n",
       "      <th>297</th>\n",
       "      <td>Zimbabwe</td>\n",
       "      <td>Milton Shumba</td>\n",
       "      <td>3</td>\n",
       "      <td>16</td>\n",
       "      <td>25</td>\n",
       "      <td>46</td>\n",
       "      <td>2</td>\n",
       "      <td>0</td>\n",
       "      <td>66.665000</td>\n",
       "    </tr>\n",
       "    <tr>\n",
       "      <th>238</th>\n",
       "      <td>Sri Lanka</td>\n",
       "      <td>Dhananjaya de Silva</td>\n",
       "      <td>3</td>\n",
       "      <td>146</td>\n",
       "      <td>112</td>\n",
       "      <td>207</td>\n",
       "      <td>13</td>\n",
       "      <td>3</td>\n",
       "      <td>88.317143</td>\n",
       "    </tr>\n",
       "    <tr>\n",
       "      <th>277</th>\n",
       "      <td>West Indies</td>\n",
       "      <td>Evin Lewis</td>\n",
       "      <td>3</td>\n",
       "      <td>28</td>\n",
       "      <td>36</td>\n",
       "      <td>70</td>\n",
       "      <td>1</td>\n",
       "      <td>0</td>\n",
       "      <td>77.775000</td>\n",
       "    </tr>\n",
       "    <tr>\n",
       "      <th>156</th>\n",
       "      <td>Netherlands</td>\n",
       "      <td>Tom Cooper</td>\n",
       "      <td>3</td>\n",
       "      <td>67</td>\n",
       "      <td>48</td>\n",
       "      <td>72</td>\n",
       "      <td>4</td>\n",
       "      <td>3</td>\n",
       "      <td>147.275000</td>\n",
       "    </tr>\n",
       "    <tr>\n",
       "      <th>274</th>\n",
       "      <td>West Indies</td>\n",
       "      <td>Brandon King</td>\n",
       "      <td>3</td>\n",
       "      <td>17</td>\n",
       "      <td>15</td>\n",
       "      <td>24</td>\n",
       "      <td>3</td>\n",
       "      <td>0</td>\n",
       "      <td>113.330000</td>\n",
       "    </tr>\n",
       "    <tr>\n",
       "      <th>315</th>\n",
       "      <td>Zimbabwe</td>\n",
       "      <td>Wessly Madhevere</td>\n",
       "      <td>3</td>\n",
       "      <td>22</td>\n",
       "      <td>24</td>\n",
       "      <td>30</td>\n",
       "      <td>4</td>\n",
       "      <td>0</td>\n",
       "      <td>57.890000</td>\n",
       "    </tr>\n",
       "    <tr>\n",
       "      <th>263</th>\n",
       "      <td>United Arab Emirates</td>\n",
       "      <td>Kashif Daud</td>\n",
       "      <td>3</td>\n",
       "      <td>15</td>\n",
       "      <td>14</td>\n",
       "      <td>19</td>\n",
       "      <td>0</td>\n",
       "      <td>1</td>\n",
       "      <td>107.140000</td>\n",
       "    </tr>\n",
       "    <tr>\n",
       "      <th>253</th>\n",
       "      <td>United Arab Emirates</td>\n",
       "      <td>Aryan Lakra</td>\n",
       "      <td>3</td>\n",
       "      <td>1</td>\n",
       "      <td>3</td>\n",
       "      <td>4</td>\n",
       "      <td>0</td>\n",
       "      <td>0</td>\n",
       "      <td>33.330000</td>\n",
       "    </tr>\n",
       "    <tr>\n",
       "      <th>54</th>\n",
       "      <td>Bangladesh</td>\n",
       "      <td>Shakib Al Hasan(c)</td>\n",
       "      <td>3</td>\n",
       "      <td>13</td>\n",
       "      <td>12</td>\n",
       "      <td>24</td>\n",
       "      <td>2</td>\n",
       "      <td>0</td>\n",
       "      <td>108.330000</td>\n",
       "    </tr>\n",
       "    <tr>\n",
       "      <th>42</th>\n",
       "      <td>Bangladesh</td>\n",
       "      <td>Litton Das</td>\n",
       "      <td>3</td>\n",
       "      <td>57</td>\n",
       "      <td>54</td>\n",
       "      <td>96</td>\n",
       "      <td>4</td>\n",
       "      <td>1</td>\n",
       "      <td>102.713333</td>\n",
       "    </tr>\n",
       "    <tr>\n",
       "      <th>133</th>\n",
       "      <td>Namibia</td>\n",
       "      <td>Stephan Baard</td>\n",
       "      <td>3</td>\n",
       "      <td>19</td>\n",
       "      <td>22</td>\n",
       "      <td>46</td>\n",
       "      <td>0</td>\n",
       "      <td>0</td>\n",
       "      <td>86.360000</td>\n",
       "    </tr>\n",
       "    <tr>\n",
       "      <th>33</th>\n",
       "      <td>Australia</td>\n",
       "      <td>Mitchell Marsh</td>\n",
       "      <td>3</td>\n",
       "      <td>106</td>\n",
       "      <td>81</td>\n",
       "      <td>107</td>\n",
       "      <td>8</td>\n",
       "      <td>6</td>\n",
       "      <td>127.650000</td>\n",
       "    </tr>\n",
       "    <tr>\n",
       "      <th>201</th>\n",
       "      <td>Scotland</td>\n",
       "      <td>Matthew Cross(WK)</td>\n",
       "      <td>3</td>\n",
       "      <td>32</td>\n",
       "      <td>33</td>\n",
       "      <td>58</td>\n",
       "      <td>5</td>\n",
       "      <td>0</td>\n",
       "      <td>69.203333</td>\n",
       "    </tr>\n",
       "    <tr>\n",
       "      <th>220</th>\n",
       "      <td>South Africa</td>\n",
       "      <td>Rilee Rossouw</td>\n",
       "      <td>3</td>\n",
       "      <td>141</td>\n",
       "      <td>83</td>\n",
       "      <td>133</td>\n",
       "      <td>9</td>\n",
       "      <td>9</td>\n",
       "      <td>110.717500</td>\n",
       "    </tr>\n",
       "    <tr>\n",
       "      <th>311</th>\n",
       "      <td>Zimbabwe</td>\n",
       "      <td>Tony Munyonga</td>\n",
       "      <td>3</td>\n",
       "      <td>2</td>\n",
       "      <td>6</td>\n",
       "      <td>12</td>\n",
       "      <td>0</td>\n",
       "      <td>0</td>\n",
       "      <td>33.330000</td>\n",
       "    </tr>\n",
       "    <tr>\n",
       "      <th>136</th>\n",
       "      <td>Netherlands</td>\n",
       "      <td>Bas de Leede</td>\n",
       "      <td>3</td>\n",
       "      <td>80</td>\n",
       "      <td>98</td>\n",
       "      <td>144</td>\n",
       "      <td>5</td>\n",
       "      <td>1</td>\n",
       "      <td>70.805000</td>\n",
       "    </tr>\n",
       "    <tr>\n",
       "      <th>80</th>\n",
       "      <td>England</td>\n",
       "      <td>Phil Salt</td>\n",
       "      <td>3</td>\n",
       "      <td>10</td>\n",
       "      <td>9</td>\n",
       "      <td>16</td>\n",
       "      <td>2</td>\n",
       "      <td>0</td>\n",
       "      <td>111.110000</td>\n",
       "    </tr>\n",
       "    <tr>\n",
       "      <th>64</th>\n",
       "      <td>England</td>\n",
       "      <td>Ben Stokes</td>\n",
       "      <td>3</td>\n",
       "      <td>42</td>\n",
       "      <td>36</td>\n",
       "      <td>59</td>\n",
       "      <td>2</td>\n",
       "      <td>0</td>\n",
       "      <td>116.660000</td>\n",
       "    </tr>\n",
       "    <tr>\n",
       "      <th>113</th>\n",
       "      <td>Ireland</td>\n",
       "      <td>Lorcan Tucker(WK)</td>\n",
       "      <td>3</td>\n",
       "      <td>204</td>\n",
       "      <td>163</td>\n",
       "      <td>257</td>\n",
       "      <td>19</td>\n",
       "      <td>4</td>\n",
       "      <td>114.827143</td>\n",
       "    </tr>\n",
       "    <tr>\n",
       "      <th>77</th>\n",
       "      <td>England</td>\n",
       "      <td>Moeen Ali</td>\n",
       "      <td>3</td>\n",
       "      <td>5</td>\n",
       "      <td>6</td>\n",
       "      <td>13</td>\n",
       "      <td>0</td>\n",
       "      <td>0</td>\n",
       "      <td>83.330000</td>\n",
       "    </tr>\n",
       "    <tr>\n",
       "      <th>99</th>\n",
       "      <td>India</td>\n",
       "      <td>Virat Kohli</td>\n",
       "      <td>3</td>\n",
       "      <td>296</td>\n",
       "      <td>217</td>\n",
       "      <td>385</td>\n",
       "      <td>25</td>\n",
       "      <td>8</td>\n",
       "      <td>129.858333</td>\n",
       "    </tr>\n",
       "    <tr>\n",
       "      <th>183</th>\n",
       "      <td>Pakistan</td>\n",
       "      <td>Mohammad Nawaz</td>\n",
       "      <td>3</td>\n",
       "      <td>4</td>\n",
       "      <td>11</td>\n",
       "      <td>27</td>\n",
       "      <td>0</td>\n",
       "      <td>0</td>\n",
       "      <td>36.360000</td>\n",
       "    </tr>\n",
       "    <tr>\n",
       "      <th>231</th>\n",
       "      <td>Sri Lanka</td>\n",
       "      <td>Charith Asalanka</td>\n",
       "      <td>3</td>\n",
       "      <td>31</td>\n",
       "      <td>22</td>\n",
       "      <td>33</td>\n",
       "      <td>2</td>\n",
       "      <td>0</td>\n",
       "      <td>140.900000</td>\n",
       "    </tr>\n",
       "    <tr>\n",
       "      <th>68</th>\n",
       "      <td>England</td>\n",
       "      <td>Dawid Malan</td>\n",
       "      <td>3</td>\n",
       "      <td>53</td>\n",
       "      <td>67</td>\n",
       "      <td>106</td>\n",
       "      <td>2</td>\n",
       "      <td>0</td>\n",
       "      <td>77.295000</td>\n",
       "    </tr>\n",
       "    <tr>\n",
       "      <th>181</th>\n",
       "      <td>Pakistan</td>\n",
       "      <td>Mohammad Haris</td>\n",
       "      <td>3</td>\n",
       "      <td>66</td>\n",
       "      <td>49</td>\n",
       "      <td>66</td>\n",
       "      <td>5</td>\n",
       "      <td>4</td>\n",
       "      <td>145.526667</td>\n",
       "    </tr>\n",
       "    <tr>\n",
       "      <th>169</th>\n",
       "      <td>New Zealand</td>\n",
       "      <td>Kane Williamson(c)</td>\n",
       "      <td>3</td>\n",
       "      <td>178</td>\n",
       "      <td>153</td>\n",
       "      <td>263</td>\n",
       "      <td>11</td>\n",
       "      <td>5</td>\n",
       "      <td>109.066000</td>\n",
       "    </tr>\n",
       "    <tr>\n",
       "      <th>193</th>\n",
       "      <td>Pakistan</td>\n",
       "      <td>Shan Masood</td>\n",
       "      <td>3</td>\n",
       "      <td>96</td>\n",
       "      <td>80</td>\n",
       "      <td>162</td>\n",
       "      <td>8</td>\n",
       "      <td>0</td>\n",
       "      <td>119.790000</td>\n",
       "    </tr>\n",
       "    <tr>\n",
       "      <th>258</th>\n",
       "      <td>United Arab Emirates</td>\n",
       "      <td>Chundangapoyil Rizwan(c)</td>\n",
       "      <td>3</td>\n",
       "      <td>43</td>\n",
       "      <td>29</td>\n",
       "      <td>55</td>\n",
       "      <td>3</td>\n",
       "      <td>1</td>\n",
       "      <td>148.270000</td>\n",
       "    </tr>\n",
       "    <tr>\n",
       "      <th>57</th>\n",
       "      <td>Bangladesh</td>\n",
       "      <td>Soumya Sarkar</td>\n",
       "      <td>3</td>\n",
       "      <td>20</td>\n",
       "      <td>17</td>\n",
       "      <td>38</td>\n",
       "      <td>1</td>\n",
       "      <td>1</td>\n",
       "      <td>117.640000</td>\n",
       "    </tr>\n",
       "    <tr>\n",
       "      <th>175</th>\n",
       "      <td>Pakistan</td>\n",
       "      <td>Fakhar Zaman</td>\n",
       "      <td>3</td>\n",
       "      <td>20</td>\n",
       "      <td>16</td>\n",
       "      <td>27</td>\n",
       "      <td>3</td>\n",
       "      <td>0</td>\n",
       "      <td>125.000000</td>\n",
       "    </tr>\n",
       "  </tbody>\n",
       "</table>\n",
       "</div>"
      ],
      "text/plain": [
       "                  Country                    Batter  batting_position  Runs  \\\n",
       "128               Namibia    Jan Nicol Loftie-Eaton                 3    21   \n",
       "8             Afghanistan            Ibrahim Zadran                 3    80   \n",
       "306              Zimbabwe             Sean Williams                 3     1   \n",
       "300              Zimbabwe        Regis Chakabva(WK)                 3     5   \n",
       "297              Zimbabwe             Milton Shumba                 3    16   \n",
       "238             Sri Lanka       Dhananjaya de Silva                 3   146   \n",
       "277           West Indies                Evin Lewis                 3    28   \n",
       "156           Netherlands                Tom Cooper                 3    67   \n",
       "274           West Indies              Brandon King                 3    17   \n",
       "315              Zimbabwe          Wessly Madhevere                 3    22   \n",
       "263  United Arab Emirates               Kashif Daud                 3    15   \n",
       "253  United Arab Emirates               Aryan Lakra                 3     1   \n",
       "54             Bangladesh        Shakib Al Hasan(c)                 3    13   \n",
       "42             Bangladesh                Litton Das                 3    57   \n",
       "133               Namibia             Stephan Baard                 3    19   \n",
       "33              Australia            Mitchell Marsh                 3   106   \n",
       "201              Scotland         Matthew Cross(WK)                 3    32   \n",
       "220          South Africa             Rilee Rossouw                 3   141   \n",
       "311              Zimbabwe             Tony Munyonga                 3     2   \n",
       "136           Netherlands              Bas de Leede                 3    80   \n",
       "80                England                 Phil Salt                 3    10   \n",
       "64                England                Ben Stokes                 3    42   \n",
       "113               Ireland         Lorcan Tucker(WK)                 3   204   \n",
       "77                England                 Moeen Ali                 3     5   \n",
       "99                  India               Virat Kohli                 3   296   \n",
       "183              Pakistan            Mohammad Nawaz                 3     4   \n",
       "231             Sri Lanka          Charith Asalanka                 3    31   \n",
       "68                England               Dawid Malan                 3    53   \n",
       "181              Pakistan            Mohammad Haris                 3    66   \n",
       "169           New Zealand        Kane Williamson(c)                 3   178   \n",
       "193              Pakistan               Shan Masood                 3    96   \n",
       "258  United Arab Emirates  Chundangapoyil Rizwan(c)                 3    43   \n",
       "57             Bangladesh             Soumya Sarkar                 3    20   \n",
       "175              Pakistan              Fakhar Zaman                 3    20   \n",
       "\n",
       "     Balls  Minutes  4s  6s          SR  \n",
       "128     18       35   1   2   91.660000  \n",
       "8       83      131   6   2  100.333333  \n",
       "306      1       10   0   0  100.000000  \n",
       "300     22       27   1   0   15.625000  \n",
       "297     25       46   2   0   66.665000  \n",
       "238    112      207  13   3   88.317143  \n",
       "277     36       70   1   0   77.775000  \n",
       "156     48       72   4   3  147.275000  \n",
       "274     15       24   3   0  113.330000  \n",
       "315     24       30   4   0   57.890000  \n",
       "263     14       19   0   1  107.140000  \n",
       "253      3        4   0   0   33.330000  \n",
       "54      12       24   2   0  108.330000  \n",
       "42      54       96   4   1  102.713333  \n",
       "133     22       46   0   0   86.360000  \n",
       "33      81      107   8   6  127.650000  \n",
       "201     33       58   5   0   69.203333  \n",
       "220     83      133   9   9  110.717500  \n",
       "311      6       12   0   0   33.330000  \n",
       "136     98      144   5   1   70.805000  \n",
       "80       9       16   2   0  111.110000  \n",
       "64      36       59   2   0  116.660000  \n",
       "113    163      257  19   4  114.827143  \n",
       "77       6       13   0   0   83.330000  \n",
       "99     217      385  25   8  129.858333  \n",
       "183     11       27   0   0   36.360000  \n",
       "231     22       33   2   0  140.900000  \n",
       "68      67      106   2   0   77.295000  \n",
       "181     49       66   5   4  145.526667  \n",
       "169    153      263  11   5  109.066000  \n",
       "193     80      162   8   0  119.790000  \n",
       "258     29       55   3   1  148.270000  \n",
       "57      17       38   1   1  117.640000  \n",
       "175     16       27   3   0  125.000000  "
      ]
     },
     "execution_count": 33,
     "metadata": {},
     "output_type": "execute_result"
    }
   ],
   "source": [
    "overall_data = overall_data.sort_values(by=['batting_position'])\n",
    "\n",
    "overall_data[overall_data['batting_position']==3]"
   ]
  },
  {
   "cell_type": "code",
   "execution_count": 35,
   "id": "b40d1b70",
   "metadata": {
    "scrolled": true
   },
   "outputs": [
    {
     "data": {
      "text/html": [
       "<div>\n",
       "<style scoped>\n",
       "    .dataframe tbody tr th:only-of-type {\n",
       "        vertical-align: middle;\n",
       "    }\n",
       "\n",
       "    .dataframe tbody tr th {\n",
       "        vertical-align: top;\n",
       "    }\n",
       "\n",
       "    .dataframe thead th {\n",
       "        text-align: right;\n",
       "    }\n",
       "</style>\n",
       "<table border=\"1\" class=\"dataframe\">\n",
       "  <thead>\n",
       "    <tr style=\"text-align: right;\">\n",
       "      <th></th>\n",
       "      <th>Country</th>\n",
       "      <th>Batter</th>\n",
       "      <th>batting_position</th>\n",
       "      <th>Runs</th>\n",
       "      <th>Balls</th>\n",
       "      <th>Minutes</th>\n",
       "      <th>4s</th>\n",
       "      <th>6s</th>\n",
       "      <th>SR</th>\n",
       "    </tr>\n",
       "  </thead>\n",
       "  <tbody>\n",
       "    <tr>\n",
       "      <th>0</th>\n",
       "      <td>Afghanistan</td>\n",
       "      <td>Azmatullah Omarzai</td>\n",
       "      <td>7</td>\n",
       "      <td>8</td>\n",
       "      <td>6</td>\n",
       "      <td>11</td>\n",
       "      <td>1</td>\n",
       "      <td>0</td>\n",
       "      <td>133.330</td>\n",
       "    </tr>\n",
       "    <tr>\n",
       "      <th>1</th>\n",
       "      <td>Afghanistan</td>\n",
       "      <td>Azmatullah Omarzai</td>\n",
       "      <td>8</td>\n",
       "      <td>3</td>\n",
       "      <td>4</td>\n",
       "      <td>3</td>\n",
       "      <td>0</td>\n",
       "      <td>0</td>\n",
       "      <td>75.000</td>\n",
       "    </tr>\n",
       "    <tr>\n",
       "      <th>2</th>\n",
       "      <td>Afghanistan</td>\n",
       "      <td>Darwish Rasooli</td>\n",
       "      <td>7</td>\n",
       "      <td>15</td>\n",
       "      <td>13</td>\n",
       "      <td>28</td>\n",
       "      <td>1</td>\n",
       "      <td>0</td>\n",
       "      <td>115.380</td>\n",
       "    </tr>\n",
       "    <tr>\n",
       "      <th>3</th>\n",
       "      <td>Afghanistan</td>\n",
       "      <td>Fareed Ahmad</td>\n",
       "      <td>10</td>\n",
       "      <td>2</td>\n",
       "      <td>4</td>\n",
       "      <td>7</td>\n",
       "      <td>0</td>\n",
       "      <td>0</td>\n",
       "      <td>50.000</td>\n",
       "    </tr>\n",
       "    <tr>\n",
       "      <th>4</th>\n",
       "      <td>Afghanistan</td>\n",
       "      <td>Fazalhaq Farooqi</td>\n",
       "      <td>11</td>\n",
       "      <td>0</td>\n",
       "      <td>2</td>\n",
       "      <td>3</td>\n",
       "      <td>0</td>\n",
       "      <td>0</td>\n",
       "      <td>0.000</td>\n",
       "    </tr>\n",
       "    <tr>\n",
       "      <th>...</th>\n",
       "      <td>...</td>\n",
       "      <td>...</td>\n",
       "      <td>...</td>\n",
       "      <td>...</td>\n",
       "      <td>...</td>\n",
       "      <td>...</td>\n",
       "      <td>...</td>\n",
       "      <td>...</td>\n",
       "      <td>...</td>\n",
       "    </tr>\n",
       "    <tr>\n",
       "      <th>312</th>\n",
       "      <td>Zimbabwe</td>\n",
       "      <td>Tony Munyonga</td>\n",
       "      <td>6</td>\n",
       "      <td>5</td>\n",
       "      <td>4</td>\n",
       "      <td>6</td>\n",
       "      <td>1</td>\n",
       "      <td>0</td>\n",
       "      <td>125.000</td>\n",
       "    </tr>\n",
       "    <tr>\n",
       "      <th>313</th>\n",
       "      <td>Zimbabwe</td>\n",
       "      <td>Wellington Masakadza</td>\n",
       "      <td>8</td>\n",
       "      <td>1</td>\n",
       "      <td>7</td>\n",
       "      <td>8</td>\n",
       "      <td>0</td>\n",
       "      <td>0</td>\n",
       "      <td>14.280</td>\n",
       "    </tr>\n",
       "    <tr>\n",
       "      <th>314</th>\n",
       "      <td>Zimbabwe</td>\n",
       "      <td>Wessly Madhevere</td>\n",
       "      <td>1</td>\n",
       "      <td>49</td>\n",
       "      <td>41</td>\n",
       "      <td>78</td>\n",
       "      <td>7</td>\n",
       "      <td>1</td>\n",
       "      <td>85.238</td>\n",
       "    </tr>\n",
       "    <tr>\n",
       "      <th>315</th>\n",
       "      <td>Zimbabwe</td>\n",
       "      <td>Wessly Madhevere</td>\n",
       "      <td>3</td>\n",
       "      <td>22</td>\n",
       "      <td>24</td>\n",
       "      <td>30</td>\n",
       "      <td>4</td>\n",
       "      <td>0</td>\n",
       "      <td>57.890</td>\n",
       "    </tr>\n",
       "    <tr>\n",
       "      <th>316</th>\n",
       "      <td>Zimbabwe</td>\n",
       "      <td>Wessly Madhevere</td>\n",
       "      <td>5</td>\n",
       "      <td>35</td>\n",
       "      <td>18</td>\n",
       "      <td>37</td>\n",
       "      <td>4</td>\n",
       "      <td>1</td>\n",
       "      <td>194.440</td>\n",
       "    </tr>\n",
       "  </tbody>\n",
       "</table>\n",
       "<p>317 rows × 9 columns</p>\n",
       "</div>"
      ],
      "text/plain": [
       "         Country                Batter  batting_position  Runs  Balls  \\\n",
       "0    Afghanistan    Azmatullah Omarzai                 7     8      6   \n",
       "1    Afghanistan    Azmatullah Omarzai                 8     3      4   \n",
       "2    Afghanistan       Darwish Rasooli                 7    15     13   \n",
       "3    Afghanistan          Fareed Ahmad                10     2      4   \n",
       "4    Afghanistan      Fazalhaq Farooqi                11     0      2   \n",
       "..           ...                   ...               ...   ...    ...   \n",
       "312     Zimbabwe         Tony Munyonga                 6     5      4   \n",
       "313     Zimbabwe  Wellington Masakadza                 8     1      7   \n",
       "314     Zimbabwe      Wessly Madhevere                 1    49     41   \n",
       "315     Zimbabwe      Wessly Madhevere                 3    22     24   \n",
       "316     Zimbabwe      Wessly Madhevere                 5    35     18   \n",
       "\n",
       "     Minutes  4s  6s       SR  \n",
       "0         11   1   0  133.330  \n",
       "1          3   0   0   75.000  \n",
       "2         28   1   0  115.380  \n",
       "3          7   0   0   50.000  \n",
       "4          3   0   0    0.000  \n",
       "..       ...  ..  ..      ...  \n",
       "312        6   1   0  125.000  \n",
       "313        8   0   0   14.280  \n",
       "314       78   7   1   85.238  \n",
       "315       30   4   0   57.890  \n",
       "316       37   4   1  194.440  \n",
       "\n",
       "[317 rows x 9 columns]"
      ]
     },
     "execution_count": 35,
     "metadata": {},
     "output_type": "execute_result"
    }
   ],
   "source": [
    "overall_data"
   ]
  },
  {
   "cell_type": "code",
   "execution_count": 59,
   "id": "da273292",
   "metadata": {},
   "outputs": [
    {
     "data": {
      "text/plain": [
       "<AxesSubplot: xlabel='SR', ylabel='Density'>"
      ]
     },
     "execution_count": 59,
     "metadata": {},
     "output_type": "execute_result"
    },
    {
     "data": {
      "image/png": "[encoded data removed]",
      "text/plain": [
       "<Figure size 640x480 with 1 Axes>"
      ]
     },
     "metadata": {},
     "output_type": "display_data"
    }
   ],
   "source": [
    "sns.kdeplot(overall_data['SR'])\n",
    "sns.kdeplot(overall_data['Runs'])\n"
   ]
  },
  {
   "cell_type": "code",
   "execution_count": 40,
   "id": "8780a335",
   "metadata": {},
   "outputs": [
    {
     "data": {
      "text/plain": [
       "8       80\n",
       "22     107\n",
       "33     106\n",
       "49     180\n",
       "63     212\n",
       "73     225\n",
       "91     128\n",
       "97     116\n",
       "98     239\n",
       "99     296\n",
       "100    153\n",
       "110    100\n",
       "113    204\n",
       "116    170\n",
       "136     80\n",
       "138    138\n",
       "144    106\n",
       "145    136\n",
       "150     91\n",
       "163    145\n",
       "165    201\n",
       "169    178\n",
       "174    124\n",
       "186    175\n",
       "199    121\n",
       "220    141\n",
       "228    120\n",
       "232    100\n",
       "238    146\n",
       "242    155\n",
       "246    214\n",
       "295    112\n",
       "305    101\n",
       "307    154\n",
       "309    219\n",
       "Name: Runs, dtype: int64"
      ]
     },
     "execution_count": 40,
     "metadata": {},
     "output_type": "execute_result"
    }
   ],
   "source": [
    "overall_data['Runs'][overall_data['Balls']>80]"
   ]
  },
  {
   "cell_type": "code",
   "execution_count": 82,
   "id": "a1e2bfdc",
   "metadata": {},
   "outputs": [
    {
     "data": {
      "text/html": [
       "<div>\n",
       "<style scoped>\n",
       "    .dataframe tbody tr th:only-of-type {\n",
       "        vertical-align: middle;\n",
       "    }\n",
       "\n",
       "    .dataframe tbody tr th {\n",
       "        vertical-align: top;\n",
       "    }\n",
       "\n",
       "    .dataframe thead th {\n",
       "        text-align: right;\n",
       "    }\n",
       "</style>\n",
       "<table border=\"1\" class=\"dataframe\">\n",
       "  <thead>\n",
       "    <tr style=\"text-align: right;\">\n",
       "      <th></th>\n",
       "      <th>S.NO.</th>\n",
       "      <th>Bowler</th>\n",
       "      <th>Overs</th>\n",
       "      <th>Maidens</th>\n",
       "      <th>Runs</th>\n",
       "      <th>Wickets</th>\n",
       "      <th>ECON</th>\n",
       "      <th>0s</th>\n",
       "      <th>4s</th>\n",
       "      <th>6s</th>\n",
       "      <th>WD</th>\n",
       "      <th>NB</th>\n",
       "      <th>Country</th>\n",
       "    </tr>\n",
       "  </thead>\n",
       "  <tbody>\n",
       "    <tr>\n",
       "      <th>0</th>\n",
       "      <td>1</td>\n",
       "      <td>Maheesh Theekshana</td>\n",
       "      <td>4.0</td>\n",
       "      <td>0</td>\n",
       "      <td>23</td>\n",
       "      <td>1</td>\n",
       "      <td>5.75</td>\n",
       "      <td>7</td>\n",
       "      <td>0</td>\n",
       "      <td>0</td>\n",
       "      <td>2</td>\n",
       "      <td>0</td>\n",
       "      <td>Sri Lanka</td>\n",
       "    </tr>\n",
       "    <tr>\n",
       "      <th>1</th>\n",
       "      <td>2</td>\n",
       "      <td>Dushmantha Chameera</td>\n",
       "      <td>4.0</td>\n",
       "      <td>0</td>\n",
       "      <td>39</td>\n",
       "      <td>1</td>\n",
       "      <td>9.75</td>\n",
       "      <td>6</td>\n",
       "      <td>3</td>\n",
       "      <td>1</td>\n",
       "      <td>2</td>\n",
       "      <td>0</td>\n",
       "      <td>Sri Lanka</td>\n",
       "    </tr>\n",
       "    <tr>\n",
       "      <th>2</th>\n",
       "      <td>3</td>\n",
       "      <td>Pramod Madushan</td>\n",
       "      <td>4.0</td>\n",
       "      <td>0</td>\n",
       "      <td>37</td>\n",
       "      <td>2</td>\n",
       "      <td>9.25</td>\n",
       "      <td>6</td>\n",
       "      <td>3</td>\n",
       "      <td>1</td>\n",
       "      <td>0</td>\n",
       "      <td>0</td>\n",
       "      <td>Sri Lanka</td>\n",
       "    </tr>\n",
       "    <tr>\n",
       "      <th>3</th>\n",
       "      <td>4</td>\n",
       "      <td>Chamika Karunaratne</td>\n",
       "      <td>4.0</td>\n",
       "      <td>0</td>\n",
       "      <td>36</td>\n",
       "      <td>1</td>\n",
       "      <td>9.00</td>\n",
       "      <td>7</td>\n",
       "      <td>3</td>\n",
       "      <td>1</td>\n",
       "      <td>1</td>\n",
       "      <td>0</td>\n",
       "      <td>Sri Lanka</td>\n",
       "    </tr>\n",
       "    <tr>\n",
       "      <th>4</th>\n",
       "      <td>5</td>\n",
       "      <td>Wanindu Hasaranga de Silva</td>\n",
       "      <td>4.0</td>\n",
       "      <td>0</td>\n",
       "      <td>27</td>\n",
       "      <td>1</td>\n",
       "      <td>6.75</td>\n",
       "      <td>8</td>\n",
       "      <td>1</td>\n",
       "      <td>1</td>\n",
       "      <td>0</td>\n",
       "      <td>0</td>\n",
       "      <td>Sri Lanka</td>\n",
       "    </tr>\n",
       "    <tr>\n",
       "      <th>...</th>\n",
       "      <td>...</td>\n",
       "      <td>...</td>\n",
       "      <td>...</td>\n",
       "      <td>...</td>\n",
       "      <td>...</td>\n",
       "      <td>...</td>\n",
       "      <td>...</td>\n",
       "      <td>...</td>\n",
       "      <td>...</td>\n",
       "      <td>...</td>\n",
       "      <td>...</td>\n",
       "      <td>...</td>\n",
       "      <td>...</td>\n",
       "    </tr>\n",
       "    <tr>\n",
       "      <th>495</th>\n",
       "      <td>2</td>\n",
       "      <td>Naseem Shah</td>\n",
       "      <td>4.0</td>\n",
       "      <td>0</td>\n",
       "      <td>30</td>\n",
       "      <td>0</td>\n",
       "      <td>7.50</td>\n",
       "      <td>15</td>\n",
       "      <td>3</td>\n",
       "      <td>1</td>\n",
       "      <td>1</td>\n",
       "      <td>0</td>\n",
       "      <td>Pakistan</td>\n",
       "    </tr>\n",
       "    <tr>\n",
       "      <th>496</th>\n",
       "      <td>3</td>\n",
       "      <td>Haris Rauf</td>\n",
       "      <td>4.0</td>\n",
       "      <td>0</td>\n",
       "      <td>23</td>\n",
       "      <td>2</td>\n",
       "      <td>5.75</td>\n",
       "      <td>13</td>\n",
       "      <td>3</td>\n",
       "      <td>0</td>\n",
       "      <td>1</td>\n",
       "      <td>0</td>\n",
       "      <td>Pakistan</td>\n",
       "    </tr>\n",
       "    <tr>\n",
       "      <th>497</th>\n",
       "      <td>4</td>\n",
       "      <td>Shadab Khan</td>\n",
       "      <td>4.0</td>\n",
       "      <td>0</td>\n",
       "      <td>20</td>\n",
       "      <td>1</td>\n",
       "      <td>5.00</td>\n",
       "      <td>10</td>\n",
       "      <td>1</td>\n",
       "      <td>0</td>\n",
       "      <td>0</td>\n",
       "      <td>0</td>\n",
       "      <td>Pakistan</td>\n",
       "    </tr>\n",
       "    <tr>\n",
       "      <th>498</th>\n",
       "      <td>5</td>\n",
       "      <td>Mohammad Wasim</td>\n",
       "      <td>4.0</td>\n",
       "      <td>0</td>\n",
       "      <td>38</td>\n",
       "      <td>1</td>\n",
       "      <td>9.50</td>\n",
       "      <td>5</td>\n",
       "      <td>5</td>\n",
       "      <td>0</td>\n",
       "      <td>2</td>\n",
       "      <td>0</td>\n",
       "      <td>Pakistan</td>\n",
       "    </tr>\n",
       "    <tr>\n",
       "      <th>499</th>\n",
       "      <td>6</td>\n",
       "      <td>Iftikhar Ahmed</td>\n",
       "      <td>0.5</td>\n",
       "      <td>0</td>\n",
       "      <td>13</td>\n",
       "      <td>0</td>\n",
       "      <td>15.60</td>\n",
       "      <td>0</td>\n",
       "      <td>1</td>\n",
       "      <td>1</td>\n",
       "      <td>0</td>\n",
       "      <td>0</td>\n",
       "      <td>Pakistan</td>\n",
       "    </tr>\n",
       "  </tbody>\n",
       "</table>\n",
       "<p>500 rows × 13 columns</p>\n",
       "</div>"
      ],
      "text/plain": [
       "     S.NO.                      Bowler  Overs  Maidens  Runs  Wickets   ECON  \\\n",
       "0        1          Maheesh Theekshana    4.0        0    23        1   5.75   \n",
       "1        2         Dushmantha Chameera    4.0        0    39        1   9.75   \n",
       "2        3             Pramod Madushan    4.0        0    37        2   9.25   \n",
       "3        4         Chamika Karunaratne    4.0        0    36        1   9.00   \n",
       "4        5  Wanindu Hasaranga de Silva    4.0        0    27        1   6.75   \n",
       "..     ...                         ...    ...      ...   ...      ...    ...   \n",
       "495      2                 Naseem Shah    4.0        0    30        0   7.50   \n",
       "496      3                  Haris Rauf    4.0        0    23        2   5.75   \n",
       "497      4                 Shadab Khan    4.0        0    20        1   5.00   \n",
       "498      5              Mohammad Wasim    4.0        0    38        1   9.50   \n",
       "499      6              Iftikhar Ahmed    0.5        0    13        0  15.60   \n",
       "\n",
       "     0s  4s  6s  WD  NB    Country  \n",
       "0     7   0   0   2   0  Sri Lanka  \n",
       "1     6   3   1   2   0  Sri Lanka  \n",
       "2     6   3   1   0   0  Sri Lanka  \n",
       "3     7   3   1   1   0  Sri Lanka  \n",
       "4     8   1   1   0   0  Sri Lanka  \n",
       "..   ..  ..  ..  ..  ..        ...  \n",
       "495  15   3   1   1   0   Pakistan  \n",
       "496  13   3   0   1   0   Pakistan  \n",
       "497  10   1   0   0   0   Pakistan  \n",
       "498   5   5   0   2   0   Pakistan  \n",
       "499   0   1   1   0   0   Pakistan  \n",
       "\n",
       "[500 rows x 13 columns]"
      ]
     },
     "execution_count": 82,
     "metadata": {},
     "output_type": "execute_result"
    }
   ],
   "source": [
    "bowling_summary\n"
   ]
  },
  {
   "cell_type": "code",
   "execution_count": 8,
   "id": "2966c847",
   "metadata": {},
   "outputs": [],
   "source": [
    "overall_data = batting_summary.groupby(['Country','Batter'],as_index=False).agg({'Runs':'sum','Balls':'sum','Minutes':'sum','4s':'sum','6s':'sum','SR':'mean'})"
   ]
  },
  {
   "cell_type": "code",
   "execution_count": 9,
   "id": "d95b7099",
   "metadata": {},
   "outputs": [
    {
     "data": {
      "text/html": [
       "<div>\n",
       "<style scoped>\n",
       "    .dataframe tbody tr th:only-of-type {\n",
       "        vertical-align: middle;\n",
       "    }\n",
       "\n",
       "    .dataframe tbody tr th {\n",
       "        vertical-align: top;\n",
       "    }\n",
       "\n",
       "    .dataframe thead th {\n",
       "        text-align: right;\n",
       "    }\n",
       "</style>\n",
       "<table border=\"1\" class=\"dataframe\">\n",
       "  <thead>\n",
       "    <tr style=\"text-align: right;\">\n",
       "      <th></th>\n",
       "      <th>Country</th>\n",
       "      <th>Batter</th>\n",
       "      <th>Runs</th>\n",
       "      <th>Balls</th>\n",
       "      <th>Minutes</th>\n",
       "      <th>4s</th>\n",
       "      <th>6s</th>\n",
       "      <th>SR</th>\n",
       "    </tr>\n",
       "  </thead>\n",
       "  <tbody>\n",
       "    <tr>\n",
       "      <th>0</th>\n",
       "      <td>Afghanistan</td>\n",
       "      <td>Azmatullah Omarzai</td>\n",
       "      <td>11</td>\n",
       "      <td>10</td>\n",
       "      <td>14</td>\n",
       "      <td>1</td>\n",
       "      <td>0</td>\n",
       "      <td>104.165000</td>\n",
       "    </tr>\n",
       "    <tr>\n",
       "      <th>1</th>\n",
       "      <td>Afghanistan</td>\n",
       "      <td>Darwish Rasooli</td>\n",
       "      <td>15</td>\n",
       "      <td>13</td>\n",
       "      <td>28</td>\n",
       "      <td>1</td>\n",
       "      <td>0</td>\n",
       "      <td>115.380000</td>\n",
       "    </tr>\n",
       "    <tr>\n",
       "      <th>2</th>\n",
       "      <td>Afghanistan</td>\n",
       "      <td>Fareed Ahmad</td>\n",
       "      <td>2</td>\n",
       "      <td>4</td>\n",
       "      <td>7</td>\n",
       "      <td>0</td>\n",
       "      <td>0</td>\n",
       "      <td>50.000000</td>\n",
       "    </tr>\n",
       "    <tr>\n",
       "      <th>3</th>\n",
       "      <td>Afghanistan</td>\n",
       "      <td>Fazalhaq Farooqi</td>\n",
       "      <td>0</td>\n",
       "      <td>2</td>\n",
       "      <td>3</td>\n",
       "      <td>0</td>\n",
       "      <td>0</td>\n",
       "      <td>0.000000</td>\n",
       "    </tr>\n",
       "    <tr>\n",
       "      <th>4</th>\n",
       "      <td>Afghanistan</td>\n",
       "      <td>Gulbadin Naib</td>\n",
       "      <td>51</td>\n",
       "      <td>37</td>\n",
       "      <td>63</td>\n",
       "      <td>3</td>\n",
       "      <td>2</td>\n",
       "      <td>127.635000</td>\n",
       "    </tr>\n",
       "    <tr>\n",
       "      <th>...</th>\n",
       "      <td>...</td>\n",
       "      <td>...</td>\n",
       "      <td>...</td>\n",
       "      <td>...</td>\n",
       "      <td>...</td>\n",
       "      <td>...</td>\n",
       "      <td>...</td>\n",
       "      <td>...</td>\n",
       "    </tr>\n",
       "    <tr>\n",
       "      <th>195</th>\n",
       "      <td>Zimbabwe</td>\n",
       "      <td>Sikandar Raza</td>\n",
       "      <td>219</td>\n",
       "      <td>148</td>\n",
       "      <td>246</td>\n",
       "      <td>16</td>\n",
       "      <td>11</td>\n",
       "      <td>110.538750</td>\n",
       "    </tr>\n",
       "    <tr>\n",
       "      <th>196</th>\n",
       "      <td>Zimbabwe</td>\n",
       "      <td>Tendai Chatara</td>\n",
       "      <td>13</td>\n",
       "      <td>19</td>\n",
       "      <td>38</td>\n",
       "      <td>1</td>\n",
       "      <td>0</td>\n",
       "      <td>74.403333</td>\n",
       "    </tr>\n",
       "    <tr>\n",
       "      <th>197</th>\n",
       "      <td>Zimbabwe</td>\n",
       "      <td>Tony Munyonga</td>\n",
       "      <td>7</td>\n",
       "      <td>10</td>\n",
       "      <td>18</td>\n",
       "      <td>1</td>\n",
       "      <td>0</td>\n",
       "      <td>79.165000</td>\n",
       "    </tr>\n",
       "    <tr>\n",
       "      <th>198</th>\n",
       "      <td>Zimbabwe</td>\n",
       "      <td>Wellington Masakadza</td>\n",
       "      <td>1</td>\n",
       "      <td>7</td>\n",
       "      <td>8</td>\n",
       "      <td>0</td>\n",
       "      <td>0</td>\n",
       "      <td>14.280000</td>\n",
       "    </tr>\n",
       "    <tr>\n",
       "      <th>199</th>\n",
       "      <td>Zimbabwe</td>\n",
       "      <td>Wessly Madhevere</td>\n",
       "      <td>106</td>\n",
       "      <td>83</td>\n",
       "      <td>145</td>\n",
       "      <td>15</td>\n",
       "      <td>2</td>\n",
       "      <td>92.051250</td>\n",
       "    </tr>\n",
       "  </tbody>\n",
       "</table>\n",
       "<p>200 rows × 8 columns</p>\n",
       "</div>"
      ],
      "text/plain": [
       "         Country                Batter  Runs  Balls  Minutes  4s  6s  \\\n",
       "0    Afghanistan    Azmatullah Omarzai    11     10       14   1   0   \n",
       "1    Afghanistan       Darwish Rasooli    15     13       28   1   0   \n",
       "2    Afghanistan          Fareed Ahmad     2      4        7   0   0   \n",
       "3    Afghanistan      Fazalhaq Farooqi     0      2        3   0   0   \n",
       "4    Afghanistan         Gulbadin Naib    51     37       63   3   2   \n",
       "..           ...                   ...   ...    ...      ...  ..  ..   \n",
       "195     Zimbabwe         Sikandar Raza   219    148      246  16  11   \n",
       "196     Zimbabwe        Tendai Chatara    13     19       38   1   0   \n",
       "197     Zimbabwe         Tony Munyonga     7     10       18   1   0   \n",
       "198     Zimbabwe  Wellington Masakadza     1      7        8   0   0   \n",
       "199     Zimbabwe      Wessly Madhevere   106     83      145  15   2   \n",
       "\n",
       "             SR  \n",
       "0    104.165000  \n",
       "1    115.380000  \n",
       "2     50.000000  \n",
       "3      0.000000  \n",
       "4    127.635000  \n",
       "..          ...  \n",
       "195  110.538750  \n",
       "196   74.403333  \n",
       "197   79.165000  \n",
       "198   14.280000  \n",
       "199   92.051250  \n",
       "\n",
       "[200 rows x 8 columns]"
      ]
     },
     "execution_count": 9,
     "metadata": {},
     "output_type": "execute_result"
    }
   ],
   "source": [
    "overall_data1"
   ]
  },
  {
   "cell_type": "code",
   "execution_count": 16,
   "id": "172656b6",
   "metadata": {},
   "outputs": [
    {
     "data": {
      "text/plain": [
       "Index(['S.NO.', 'Bowler', 'Overs', 'Maidens', 'Runs', 'Wickets', 'ECON', '0s',\n",
       "       '4s', '6s', 'WD', 'NB', 'Country'],\n",
       "      dtype='object')"
      ]
     },
     "execution_count": 16,
     "metadata": {},
     "output_type": "execute_result"
    }
   ],
   "source": [
    "bowling_summary.columns"
   ]
  },
  {
   "cell_type": "code",
   "execution_count": 17,
   "id": "e4d67b91",
   "metadata": {},
   "outputs": [],
   "source": [
    "overall_data = bowling_summary.groupby(['Country', 'Bowler'], as_index=False).agg({'Runs':'sum'})"
   ]
  },
  {
   "cell_type": "code",
   "execution_count": 20,
   "id": "19e61b96",
   "metadata": {},
   "outputs": [],
   "source": [
    "sorted_data = overall_data.sort_values(by='Runs', ascending=False)\n",
    "top_10_bowl_data = sorted_data[:10]"
   ]
  },
  {
   "cell_type": "code",
   "execution_count": 21,
   "id": "68d24443",
   "metadata": {},
   "outputs": [
    {
     "data": {
      "text/html": [
       "<div>\n",
       "<style scoped>\n",
       "    .dataframe tbody tr th:only-of-type {\n",
       "        vertical-align: middle;\n",
       "    }\n",
       "\n",
       "    .dataframe tbody tr th {\n",
       "        vertical-align: top;\n",
       "    }\n",
       "\n",
       "    .dataframe thead th {\n",
       "        text-align: right;\n",
       "    }\n",
       "</style>\n",
       "<table border=\"1\" class=\"dataframe\">\n",
       "  <thead>\n",
       "    <tr style=\"text-align: right;\">\n",
       "      <th></th>\n",
       "      <th>Country</th>\n",
       "      <th>Bowler</th>\n",
       "      <th>Runs</th>\n",
       "    </tr>\n",
       "  </thead>\n",
       "  <tbody>\n",
       "    <tr>\n",
       "      <th>43</th>\n",
       "      <td>Ireland</td>\n",
       "      <td>Barry McCarthy</td>\n",
       "      <td>227</td>\n",
       "    </tr>\n",
       "    <tr>\n",
       "      <th>49</th>\n",
       "      <td>Ireland</td>\n",
       "      <td>Mark Adair</td>\n",
       "      <td>212</td>\n",
       "    </tr>\n",
       "    <tr>\n",
       "      <th>103</th>\n",
       "      <td>Sri Lanka</td>\n",
       "      <td>Maheesh Theekshana</td>\n",
       "      <td>202</td>\n",
       "    </tr>\n",
       "    <tr>\n",
       "      <th>105</th>\n",
       "      <td>Sri Lanka</td>\n",
       "      <td>Wanindu Hasaranga de Silva</td>\n",
       "      <td>199</td>\n",
       "    </tr>\n",
       "    <tr>\n",
       "      <th>122</th>\n",
       "      <td>Zimbabwe</td>\n",
       "      <td>Blessing Muzarabani</td>\n",
       "      <td>199</td>\n",
       "    </tr>\n",
       "    <tr>\n",
       "      <th>64</th>\n",
       "      <td>Netherlands</td>\n",
       "      <td>Paul van Meekeren</td>\n",
       "      <td>198</td>\n",
       "    </tr>\n",
       "    <tr>\n",
       "      <th>125</th>\n",
       "      <td>Zimbabwe</td>\n",
       "      <td>Richard Ngarava</td>\n",
       "      <td>197</td>\n",
       "    </tr>\n",
       "    <tr>\n",
       "      <th>62</th>\n",
       "      <td>Netherlands</td>\n",
       "      <td>Fred Klaassen</td>\n",
       "      <td>191</td>\n",
       "    </tr>\n",
       "    <tr>\n",
       "      <th>48</th>\n",
       "      <td>Ireland</td>\n",
       "      <td>Josh Little</td>\n",
       "      <td>189</td>\n",
       "    </tr>\n",
       "    <tr>\n",
       "      <th>46</th>\n",
       "      <td>Ireland</td>\n",
       "      <td>Gareth Delany</td>\n",
       "      <td>185</td>\n",
       "    </tr>\n",
       "  </tbody>\n",
       "</table>\n",
       "</div>"
      ],
      "text/plain": [
       "         Country                      Bowler  Runs\n",
       "43       Ireland              Barry McCarthy   227\n",
       "49       Ireland                  Mark Adair   212\n",
       "103    Sri Lanka          Maheesh Theekshana   202\n",
       "105    Sri Lanka  Wanindu Hasaranga de Silva   199\n",
       "122     Zimbabwe         Blessing Muzarabani   199\n",
       "64   Netherlands           Paul van Meekeren   198\n",
       "125     Zimbabwe             Richard Ngarava   197\n",
       "62   Netherlands               Fred Klaassen   191\n",
       "48       Ireland                 Josh Little   189\n",
       "46       Ireland               Gareth Delany   185"
      ]
     },
     "execution_count": 21,
     "metadata": {},
     "output_type": "execute_result"
    }
   ],
   "source": [
    "top_10_bowl_data"
   ]
  },
  {
   "cell_type": "code",
   "execution_count": 22,
   "id": "c330c689",
   "metadata": {},
   "outputs": [
    {
     "data": {
      "text/plain": [
       "490"
      ]
     },
     "execution_count": 22,
     "metadata": {},
     "output_type": "execute_result"
    }
   ],
   "source": [
    "len(bowling_summary)-10"
   ]
  },
  {
   "cell_type": "code",
   "execution_count": 78,
   "id": "b165d53c",
   "metadata": {},
   "outputs": [
    {
     "data": {
      "text/html": [
       "<div>\n",
       "<style scoped>\n",
       "    .dataframe tbody tr th:only-of-type {\n",
       "        vertical-align: middle;\n",
       "    }\n",
       "\n",
       "    .dataframe tbody tr th {\n",
       "        vertical-align: top;\n",
       "    }\n",
       "\n",
       "    .dataframe thead th {\n",
       "        text-align: right;\n",
       "    }\n",
       "</style>\n",
       "<table border=\"1\" class=\"dataframe\">\n",
       "  <thead>\n",
       "    <tr style=\"text-align: right;\">\n",
       "      <th></th>\n",
       "      <th>batting_position</th>\n",
       "      <th>Batter</th>\n",
       "      <th>Dismissal</th>\n",
       "      <th>Runs</th>\n",
       "      <th>Balls</th>\n",
       "      <th>Minutes</th>\n",
       "      <th>4s</th>\n",
       "      <th>6s</th>\n",
       "      <th>SR</th>\n",
       "      <th>Country</th>\n",
       "    </tr>\n",
       "  </thead>\n",
       "  <tbody>\n",
       "    <tr>\n",
       "      <th>261</th>\n",
       "      <td>3</td>\n",
       "      <td>Virat Kohli</td>\n",
       "      <td>not out</td>\n",
       "      <td>82</td>\n",
       "      <td>53</td>\n",
       "      <td>98</td>\n",
       "      <td>6</td>\n",
       "      <td>4</td>\n",
       "      <td>154.71</td>\n",
       "      <td>India</td>\n",
       "    </tr>\n",
       "    <tr>\n",
       "      <th>347</th>\n",
       "      <td>3</td>\n",
       "      <td>Virat Kohli</td>\n",
       "      <td>not out</td>\n",
       "      <td>62</td>\n",
       "      <td>44</td>\n",
       "      <td>79</td>\n",
       "      <td>3</td>\n",
       "      <td>2</td>\n",
       "      <td>140.90</td>\n",
       "      <td>India</td>\n",
       "    </tr>\n",
       "    <tr>\n",
       "      <th>436</th>\n",
       "      <td>3</td>\n",
       "      <td>Virat Kohli</td>\n",
       "      <td>c Rabada b Ngidi</td>\n",
       "      <td>12</td>\n",
       "      <td>11</td>\n",
       "      <td>13</td>\n",
       "      <td>2</td>\n",
       "      <td>0</td>\n",
       "      <td>109.09</td>\n",
       "      <td>India</td>\n",
       "    </tr>\n",
       "    <tr>\n",
       "      <th>521</th>\n",
       "      <td>3</td>\n",
       "      <td>Virat Kohli</td>\n",
       "      <td>not out</td>\n",
       "      <td>64</td>\n",
       "      <td>44</td>\n",
       "      <td>84</td>\n",
       "      <td>8</td>\n",
       "      <td>1</td>\n",
       "      <td>145.45</td>\n",
       "      <td>India</td>\n",
       "    </tr>\n",
       "    <tr>\n",
       "      <th>646</th>\n",
       "      <td>3</td>\n",
       "      <td>Virat Kohli</td>\n",
       "      <td>c Burl b Williams</td>\n",
       "      <td>26</td>\n",
       "      <td>25</td>\n",
       "      <td>36</td>\n",
       "      <td>2</td>\n",
       "      <td>0</td>\n",
       "      <td>104.00</td>\n",
       "      <td>India</td>\n",
       "    </tr>\n",
       "    <tr>\n",
       "      <th>675</th>\n",
       "      <td>3</td>\n",
       "      <td>Virat Kohli</td>\n",
       "      <td>c Rashid b Jordan</td>\n",
       "      <td>50</td>\n",
       "      <td>40</td>\n",
       "      <td>75</td>\n",
       "      <td>4</td>\n",
       "      <td>1</td>\n",
       "      <td>125.00</td>\n",
       "      <td>India</td>\n",
       "    </tr>\n",
       "  </tbody>\n",
       "</table>\n",
       "</div>"
      ],
      "text/plain": [
       "     batting_position       Batter          Dismissal  Runs  Balls  Minutes  \\\n",
       "261                 3  Virat Kohli           not out     82     53       98   \n",
       "347                 3  Virat Kohli           not out     62     44       79   \n",
       "436                 3  Virat Kohli   c Rabada b Ngidi    12     11       13   \n",
       "521                 3  Virat Kohli           not out     64     44       84   \n",
       "646                 3  Virat Kohli  c Burl b Williams    26     25       36   \n",
       "675                 3  Virat Kohli  c Rashid b Jordan    50     40       75   \n",
       "\n",
       "     4s  6s      SR Country  \n",
       "261   6   4  154.71   India  \n",
       "347   3   2  140.90   India  \n",
       "436   2   0  109.09   India  \n",
       "521   8   1  145.45   India  \n",
       "646   2   0  104.00   India  \n",
       "675   4   1  125.00   India  "
      ]
     },
     "execution_count": 78,
     "metadata": {},
     "output_type": "execute_result"
    }
   ],
   "source": [
    "player = batting_summary[batting_summary['Batter'] == 'Virat Kohli']\n",
    "range()\n",
    "player"
   ]
  },
  {
   "cell_type": "code",
   "execution_count": 79,
   "id": "eb8920e6",
   "metadata": {},
   "outputs": [
    {
     "ename": "ValueError",
     "evalue": "too many values to unpack (expected 2)",
     "output_type": "error",
     "traceback": [
      "\u001b[1;31m---------------------------------------------------------------------------\u001b[0m",
      "\u001b[1;31mValueError\u001b[0m                                Traceback (most recent call last)",
      "\u001b[1;32m~\\AppData\\Local\\Temp/ipykernel_13968/4156953804.py\u001b[0m in \u001b[0;36m<module>\u001b[1;34m\u001b[0m\n\u001b[1;32m----> 1\u001b[1;33m \u001b[1;32mfor\u001b[0m \u001b[0mk\u001b[0m\u001b[1;33m,\u001b[0m\u001b[0mm\u001b[0m \u001b[1;32min\u001b[0m \u001b[0ml\u001b[0m\u001b[1;33m:\u001b[0m\u001b[1;33m\u001b[0m\u001b[1;33m\u001b[0m\u001b[0m\n\u001b[0m\u001b[0;32m      2\u001b[0m     \u001b[1;32mif\u001b[0m \u001b[0ml\u001b[0m\u001b[1;33m[\u001b[0m\u001b[1;34m'Batter'\u001b[0m\u001b[1;33m]\u001b[0m \u001b[1;33m==\u001b[0m\u001b[1;34m'Aaron Finch(c)'\u001b[0m\u001b[1;33m:\u001b[0m\u001b[1;33m\u001b[0m\u001b[1;33m\u001b[0m\u001b[0m\n\u001b[0;32m      3\u001b[0m         \u001b[0mprint\u001b[0m\u001b[1;33m(\u001b[0m\u001b[0mm\u001b[0m\u001b[1;33m)\u001b[0m\u001b[1;33m\u001b[0m\u001b[1;33m\u001b[0m\u001b[0m\n",
      "\u001b[1;31mValueError\u001b[0m: too many values to unpack (expected 2)"
     ]
    }
   ],
   "source": [
    "for k,m in l:\n",
    "    if l['Batter'] =='Aaron Finch(c)':\n",
    "        print(m)"
   ]
  },
  {
   "cell_type": "code",
   "execution_count": 44,
   "id": "ed0b6771",
   "metadata": {},
   "outputs": [
    {
     "data": {
      "text/plain": [
       "<pandas.core.groupby.generic.DataFrameGroupBy object at 0x000001F5E4CF4610>"
      ]
     },
     "execution_count": 44,
     "metadata": {},
     "output_type": "execute_result"
    }
   ],
   "source": [
    "l"
   ]
  },
  {
   "cell_type": "code",
   "execution_count": 45,
   "id": "3ded036f",
   "metadata": {},
   "outputs": [
    {
     "data": {
      "text/html": [
       "<div>\n",
       "<style scoped>\n",
       "    .dataframe tbody tr th:only-of-type {\n",
       "        vertical-align: middle;\n",
       "    }\n",
       "\n",
       "    .dataframe tbody tr th {\n",
       "        vertical-align: top;\n",
       "    }\n",
       "\n",
       "    .dataframe thead th {\n",
       "        text-align: right;\n",
       "    }\n",
       "</style>\n",
       "<table border=\"1\" class=\"dataframe\">\n",
       "  <thead>\n",
       "    <tr style=\"text-align: right;\">\n",
       "      <th></th>\n",
       "      <th>0</th>\n",
       "      <th>1</th>\n",
       "    </tr>\n",
       "  </thead>\n",
       "  <tbody>\n",
       "    <tr>\n",
       "      <th>0</th>\n",
       "      <td>Aaron Finch(c)</td>\n",
       "      <td>batting_position          Batter         ...</td>\n",
       "    </tr>\n",
       "    <tr>\n",
       "      <th>1</th>\n",
       "      <td>Aayan Afzal Khan</td>\n",
       "      <td>batting_position            Batter       ...</td>\n",
       "    </tr>\n",
       "    <tr>\n",
       "      <th>2</th>\n",
       "      <td>Adam Zampa</td>\n",
       "      <td>batting_position      Batter Dismissal  R...</td>\n",
       "    </tr>\n",
       "    <tr>\n",
       "      <th>3</th>\n",
       "      <td>Afif Hossain</td>\n",
       "      <td>batting_position        Batter           ...</td>\n",
       "    </tr>\n",
       "    <tr>\n",
       "      <th>4</th>\n",
       "      <td>Aiden Markram</td>\n",
       "      <td>batting_position         Batter          ...</td>\n",
       "    </tr>\n",
       "    <tr>\n",
       "      <th>...</th>\n",
       "      <td>...</td>\n",
       "      <td>...</td>\n",
       "    </tr>\n",
       "    <tr>\n",
       "      <th>195</th>\n",
       "      <td>Wessly Madhevere</td>\n",
       "      <td>batting_position            Batter       ...</td>\n",
       "    </tr>\n",
       "    <tr>\n",
       "      <th>196</th>\n",
       "      <td>Yasir Ali</td>\n",
       "      <td>batting_position     Batter              ...</td>\n",
       "    </tr>\n",
       "    <tr>\n",
       "      <th>197</th>\n",
       "      <td>Zahoor Khan</td>\n",
       "      <td>batting_position       Batter Dismissal  ...</td>\n",
       "    </tr>\n",
       "    <tr>\n",
       "      <th>198</th>\n",
       "      <td>Zane Green(WK)</td>\n",
       "      <td>batting_position          Batter       Di...</td>\n",
       "    </tr>\n",
       "    <tr>\n",
       "      <th>199</th>\n",
       "      <td>Zawar Farid</td>\n",
       "      <td>batting_position       Batter             ...</td>\n",
       "    </tr>\n",
       "  </tbody>\n",
       "</table>\n",
       "<p>200 rows × 2 columns</p>\n",
       "</div>"
      ],
      "text/plain": [
       "                    0                                                  1\n",
       "0      Aaron Finch(c)       batting_position          Batter         ...\n",
       "1    Aayan Afzal Khan       batting_position            Batter       ...\n",
       "2          Adam Zampa       batting_position      Batter Dismissal  R...\n",
       "3        Afif Hossain       batting_position        Batter           ...\n",
       "4       Aiden Markram       batting_position         Batter          ...\n",
       "..                ...                                                ...\n",
       "195  Wessly Madhevere       batting_position            Batter       ...\n",
       "196         Yasir Ali       batting_position     Batter              ...\n",
       "197       Zahoor Khan       batting_position       Batter Dismissal  ...\n",
       "198    Zane Green(WK)       batting_position          Batter       Di...\n",
       "199       Zawar Farid      batting_position       Batter             ...\n",
       "\n",
       "[200 rows x 2 columns]"
      ]
     },
     "execution_count": 45,
     "metadata": {},
     "output_type": "execute_result"
    }
   ],
   "source": [
    "pd.DataFrame(l)"
   ]
  },
  {
   "cell_type": "code",
   "execution_count": 68,
   "id": "c6cd38e5",
   "metadata": {},
   "outputs": [],
   "source": [
    "a = list(set(batting_summary['Batter']))"
   ]
  },
  {
   "cell_type": "code",
   "execution_count": 69,
   "id": "b7ab230a",
   "metadata": {},
   "outputs": [
    {
     "data": {
      "text/plain": [
       "['',\n",
       " 'Shakib Al Hasan(c)',\n",
       " 'Divan la Cock',\n",
       " 'Paul Stirling',\n",
       " 'Regis Chakabva(c)(WK)',\n",
       " 'Mosaddek Hossain',\n",
       " 'Deepak Hooda',\n",
       " 'Stephan Baard',\n",
       " 'Ish Sodhi',\n",
       " 'Arshdeep Singh',\n",
       " 'Kusal Mendis(WK)',\n",
       " 'Pat Cummins',\n",
       " 'Bernard Scholtz',\n",
       " 'Temba Bavuma(c)',\n",
       " 'Fakhar Zaman',\n",
       " 'Adam Zampa',\n",
       " 'Tendai Chatara',\n",
       " 'Iftikhar Ahmed',\n",
       " 'Dushmantha Chameera',\n",
       " 'Brad Evans',\n",
       " 'Mitchell Starc',\n",
       " 'Matthew Wade(c)(WK)',\n",
       " 'Danushka Gunathilaka',\n",
       " 'Keshav Maharaj',\n",
       " 'Johnson Charles',\n",
       " 'Harry Brook',\n",
       " 'Mohammad Wasim',\n",
       " 'Kashif Daud',\n",
       " 'Wanindu Hasaranga de Silva',\n",
       " 'Jason Holder',\n",
       " 'Naveen-ul-Haq',\n",
       " 'Andy Balbirnie(c)',\n",
       " 'Shaheen Shah Afridi',\n",
       " 'Ruben Trumpelmann',\n",
       " 'Ravichandran Ashwin',\n",
       " 'Milton Shumba',\n",
       " 'Harry Tector',\n",
       " 'Maheesh Theekshana',\n",
       " 'Alzarri Joseph',\n",
       " 'Axar Patel',\n",
       " 'Darwish Rasooli',\n",
       " 'George Munsey',\n",
       " 'Hasan Mahmud',\n",
       " 'Shamarh Brooks',\n",
       " 'Obed McCoy',\n",
       " 'David Miller',\n",
       " 'Matthew Cross(WK)',\n",
       " 'Glenn Maxwell',\n",
       " 'Glenn Phillips',\n",
       " 'Chirag Suri',\n",
       " 'Roelof van der Merwe',\n",
       " 'Tim David',\n",
       " 'Liam Livingstone',\n",
       " 'Barry McCarthy',\n",
       " 'Dinesh Karthik(WK)',\n",
       " 'Steven Smith',\n",
       " 'Chamika Karunaratne',\n",
       " 'Lorcan Tucker(WK)',\n",
       " 'Rishabh Pant(WK)',\n",
       " 'Moeen Ali',\n",
       " 'Taskin Ahmed',\n",
       " 'Sikandar Raza',\n",
       " 'Matthew Wade(WK)',\n",
       " 'Mohammad Haris',\n",
       " 'Alex Hales',\n",
       " 'Timm van der Gugten',\n",
       " 'Josh Little',\n",
       " 'Naseem Shah',\n",
       " 'Aayan Afzal Khan',\n",
       " 'Devon Conway(WK)',\n",
       " 'Suryakumar Yadav',\n",
       " 'Najmul Hossain Shanto',\n",
       " 'Soumya Sarkar',\n",
       " 'Colin Ackermann',\n",
       " 'Rashid Khan',\n",
       " 'Afif Hossain',\n",
       " 'Blessing Muzarabani',\n",
       " 'Wellington Masakadza',\n",
       " \"Max O'Dowd\",\n",
       " 'KL Rahul',\n",
       " 'Mohammad Nawaz',\n",
       " 'Gerhard Erasmus(c)',\n",
       " 'George Dockrell',\n",
       " 'Fareed Ahmad',\n",
       " 'Zane Green(WK)',\n",
       " 'Azmatullah Omarzai',\n",
       " 'Bas de Leede',\n",
       " 'Aryan Lakra',\n",
       " 'Shan Masood',\n",
       " 'David Wiese',\n",
       " 'Nasum Ahmed',\n",
       " 'Chundangapoyil Rizwan(c)',\n",
       " 'Regis Chakabva(WK)',\n",
       " 'Mitchell Santner',\n",
       " 'Luke Jongwe',\n",
       " 'Bhuvneshwar Kumar',\n",
       " 'Bhanuka Rajapaksa',\n",
       " 'Logan van Beek',\n",
       " 'Ryan Burl',\n",
       " 'Richard Ngarava',\n",
       " 'Gulbadin Naib',\n",
       " 'Zahoor Khan',\n",
       " 'Jan Frylinck',\n",
       " 'Mark Adair',\n",
       " 'Stephan Myburgh',\n",
       " 'JJ Smit',\n",
       " 'Rohit Sharma(c)',\n",
       " 'Gareth Delany',\n",
       " 'Wayne Parnell',\n",
       " 'Babar Azam(c)',\n",
       " 'Mustafizur Rahman',\n",
       " 'Tim Southee',\n",
       " 'Shadab Khan',\n",
       " 'Finn Allen',\n",
       " 'Marcus Stoinis',\n",
       " 'Kane Richardson',\n",
       " 'Alishan Sharafu',\n",
       " 'Mehidy Hasan Miraz',\n",
       " 'Haider Ali',\n",
       " 'Mohammed Shami',\n",
       " 'Fionn Hand',\n",
       " 'Najibullah Zadran',\n",
       " 'Anrich Nortje',\n",
       " 'Mujeeb Ur Rahman',\n",
       " 'Rahmanullah Gurbaz(WK)',\n",
       " 'Brandon King',\n",
       " 'Dawid Malan',\n",
       " 'Lungi Ngidi',\n",
       " 'Vikramjit Singh',\n",
       " 'Tabraiz Shamsi',\n",
       " 'Jos Buttler(c)(WK)',\n",
       " 'Pramod Madushan',\n",
       " 'Michael Leask',\n",
       " 'Rilee Rossouw',\n",
       " 'Phil Salt',\n",
       " 'Wessly Madhevere',\n",
       " 'Mohammad Rizwan(WK)',\n",
       " 'Daryl Mitchell',\n",
       " 'Akeal Hosein',\n",
       " 'Pathum Nissanka',\n",
       " 'Shariz Ahmad',\n",
       " 'Fazalhaq Farooqi',\n",
       " 'Chris Woakes',\n",
       " 'Craig Ervine(c)',\n",
       " 'Tom Cooper',\n",
       " 'Odean Smith',\n",
       " 'Junaid Siddique',\n",
       " 'Karthik Meiyappan',\n",
       " 'Charith Asalanka',\n",
       " 'Chris Greaves',\n",
       " 'Rovman Powell',\n",
       " 'Hazratullah Zazai',\n",
       " 'Cameron Green',\n",
       " 'Nurul Hasan(WK)',\n",
       " 'Heinrich Klaasen',\n",
       " 'Basil Hameed',\n",
       " 'Vriitya Aravind(WK)',\n",
       " 'Asif Ali',\n",
       " 'Kyle Mayers',\n",
       " 'Dhananjaya de Silva',\n",
       " 'Quinton de Kock(WK)',\n",
       " 'Hardik Pandya',\n",
       " 'Calum MacLeod',\n",
       " 'Aiden Markram',\n",
       " 'Curtis Campher',\n",
       " 'Kagiso Rabada',\n",
       " 'Jan Nicol Loftie-Eaton',\n",
       " 'Tim Pringle',\n",
       " 'Michael van Lingen',\n",
       " 'Evin Lewis',\n",
       " 'Paul van Meekeren',\n",
       " 'Virat Kohli',\n",
       " 'Simi Singh',\n",
       " 'James Neesham',\n",
       " 'Josh Hazlewood',\n",
       " 'Michael Jones',\n",
       " 'Ben Stokes',\n",
       " 'Tony Munyonga',\n",
       " 'Scott Edwards(c)(WK)',\n",
       " 'Kasun Rajitha',\n",
       " 'Ibrahim Zadran',\n",
       " 'Zawar Farid',\n",
       " 'Lahiru Kumara',\n",
       " 'Josh Davey',\n",
       " 'Sam Curran',\n",
       " 'Muhammad Waseem',\n",
       " 'Sean Williams',\n",
       " 'Dasun Shanaka(c)',\n",
       " 'David Warner',\n",
       " 'Mitchell Marsh',\n",
       " 'Yasir Ali',\n",
       " 'Litton Das',\n",
       " 'Kane Williamson(c)',\n",
       " 'Nicholas Pooran(c)(WK)',\n",
       " 'Richie Berrington(c)',\n",
       " 'Mohammad Nabi(c)',\n",
       " 'Haris Rauf',\n",
       " 'Tristan Stubbs',\n",
       " 'Aaron Finch(c)',\n",
       " 'Fred Klaassen',\n",
       " 'Usman Ghani']"
      ]
     },
     "execution_count": 69,
     "metadata": {},
     "output_type": "execute_result"
    }
   ],
   "source": [
    "a.insert(0,'')\n",
    "a"
   ]
  },
  {
   "cell_type": "code",
   "execution_count": 81,
   "id": "beea35b2",
   "metadata": {},
   "outputs": [
    {
     "data": {
      "text/plain": [
       "[1, 2, 3, 4, 5, 6, 7, 8, 9]"
      ]
     },
     "execution_count": 81,
     "metadata": {},
     "output_type": "execute_result"
    }
   ],
   "source": [
    "list(range(1,10))"
   ]
  },
  {
   "cell_type": "code",
   "execution_count": null,
   "id": "deb13715",
   "metadata": {},
   "outputs": [],
   "source": []
  }
 ],
 "metadata": {
  "kernelspec": {
   "display_name": "Python 3 (ipykernel)",
   "language": "python",
   "name": "python3"
  },
  "language_info": {
   "codemirror_mode": {
    "name": "ipython",
    "version": 3
   },
   "file_extension": ".py",
   "mimetype": "text/x-python",
   "name": "python",
   "nbconvert_exporter": "python",
   "pygments_lexer": "ipython3",
   "version": "3.8.8"
  }
 },
 "nbformat": 4,
 "nbformat_minor": 5
}
